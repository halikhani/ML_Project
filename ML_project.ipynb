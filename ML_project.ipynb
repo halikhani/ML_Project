{
  "nbformat": 4,
  "nbformat_minor": 0,
  "metadata": {
    "colab": {
      "name": "ML_project.ipynb",
      "provenance": [],
      "collapsed_sections": [
        "uFpsUhAPc_gV",
        "5pkgqwHLa-yk",
        "pfgj0IKXOoXD",
        "S2gnu_K1d2NG",
        "9UXUYj3akBB_",
        "5DkBOapy6fPV",
        "5jLtvpnD-vKu",
        "w4RcSbxI_Bb8"
      ],
      "include_colab_link": true
    },
    "kernelspec": {
      "name": "python3",
      "display_name": "Python 3"
    }
  },
  "cells": [
    {
      "cell_type": "markdown",
      "metadata": {
        "id": "view-in-github",
        "colab_type": "text"
      },
      "source": [
        "<a href=\"https://colab.research.google.com/github/halikhani/ML_Project/blob/main/ML_project.ipynb\" target=\"_parent\"><img src=\"https://colab.research.google.com/assets/colab-badge.svg\" alt=\"Open In Colab\"/></a>"
      ]
    },
    {
      "cell_type": "markdown",
      "metadata": {
        "id": "eB1HrNYkbB3s"
      },
      "source": [
        "## **Part 0- Utils**"
      ]
    },
    {
      "cell_type": "code",
      "metadata": {
        "id": "CDjG05w0wjig"
      },
      "source": [
        "import numpy as np\n",
        "import pandas as pd\n",
        "import matplotlib.pyplot as plt\n",
        "import sklearn"
      ],
      "execution_count": null,
      "outputs": []
    },
    {
      "cell_type": "markdown",
      "metadata": {
        "id": "otASdGp3wOys"
      },
      "source": [
        "## **Part 1- Ordinary ML models**"
      ]
    },
    {
      "cell_type": "markdown",
      "metadata": {
        "id": "uFpsUhAPc_gV"
      },
      "source": [
        "### **1-1 Loading data**"
      ]
    },
    {
      "cell_type": "code",
      "metadata": {
        "id": "OF2MXoHhSZRo",
        "colab": {
          "base_uri": "https://localhost:8080/"
        },
        "outputId": "53ad29a9-44b2-4eb6-d9b3-bd0c3a3dc2ca"
      },
      "source": [
        "import io\r\n",
        "from zipfile import ZipFile\r\n",
        "!wget https://www.dropbox.com/s/gesb5v1q0cwtrmn/MLFinalProjectDataset.zip\r\n",
        "with ZipFile(\"MLFinalProjectDataset.zip\",'r') as zip:\r\n",
        "  train_data = pd.read_csv(zip.open(\"train_data.csv\"))\r\n",
        "  test_data  = pd.read_csv(zip.open(\"test_data.csv\"))"
      ],
      "execution_count": null,
      "outputs": [
        {
          "output_type": "stream",
          "text": [
            "--2021-02-09 11:55:01--  https://www.dropbox.com/s/gesb5v1q0cwtrmn/MLFinalProjectDataset.zip\n",
            "Resolving www.dropbox.com (www.dropbox.com)... 162.125.3.18, 2620:100:601b:18::a27d:812\n",
            "Connecting to www.dropbox.com (www.dropbox.com)|162.125.3.18|:443... connected.\n",
            "HTTP request sent, awaiting response... 301 Moved Permanently\n",
            "Location: /s/raw/gesb5v1q0cwtrmn/MLFinalProjectDataset.zip [following]\n",
            "--2021-02-09 11:55:02--  https://www.dropbox.com/s/raw/gesb5v1q0cwtrmn/MLFinalProjectDataset.zip\n",
            "Reusing existing connection to www.dropbox.com:443.\n",
            "HTTP request sent, awaiting response... 302 Found\n",
            "Location: https://uc7206989cf466c331b0542ac785.dl.dropboxusercontent.com/cd/0/inline/BInHDywPBjDbkX0EkDecifMMFWGonPUlY17xhPky04ygikznfRXaoxbpzhC7Mm4pbIaGL2pmiYTy89xZSkoCrgjonJBqZ_uzLnJV6zMGaTWoFBL9cGu1jnj14ba8YZupALU/file# [following]\n",
            "--2021-02-09 11:55:04--  https://uc7206989cf466c331b0542ac785.dl.dropboxusercontent.com/cd/0/inline/BInHDywPBjDbkX0EkDecifMMFWGonPUlY17xhPky04ygikznfRXaoxbpzhC7Mm4pbIaGL2pmiYTy89xZSkoCrgjonJBqZ_uzLnJV6zMGaTWoFBL9cGu1jnj14ba8YZupALU/file\n",
            "Resolving uc7206989cf466c331b0542ac785.dl.dropboxusercontent.com (uc7206989cf466c331b0542ac785.dl.dropboxusercontent.com)... 162.125.3.15, 2620:100:601b:15::a27d:80f\n",
            "Connecting to uc7206989cf466c331b0542ac785.dl.dropboxusercontent.com (uc7206989cf466c331b0542ac785.dl.dropboxusercontent.com)|162.125.3.15|:443... connected.\n",
            "HTTP request sent, awaiting response... 302 Found\n",
            "Location: /cd/0/inline2/BIkgTc9boVZPId5N-rxvwqULYPkWDdVGlxNgD0LInoLKGEYH4px0v-GvGVAI1vHHmQotKbP0npzUJbqMYHaR_k_yDngW4sjQ0adMKFXinbDAwhA7GFamxNnY1WeXQ6elF-WQZV2wre-EdD3_vd7PIStVF8xPrT1ao7XI7k5Z_Q7gGBEttXUI-tH--dJn3_CO80HjFwFnrKgiS9WqN_J7VhQT5LkQzhTUvPCsjaFA9RQasmGff_to1V17ThiPx4hyBsAGNWhoNClzvTqPnrOda-cimCIgXFg8kKmPmYKQI_13fP48twztcxAbDDdlJaUu0LmTlzkjYc8c53uFnbImhUFhJoqSZgRCP-8J6Fl9hIWfpg/file [following]\n",
            "--2021-02-09 11:55:05--  https://uc7206989cf466c331b0542ac785.dl.dropboxusercontent.com/cd/0/inline2/BIkgTc9boVZPId5N-rxvwqULYPkWDdVGlxNgD0LInoLKGEYH4px0v-GvGVAI1vHHmQotKbP0npzUJbqMYHaR_k_yDngW4sjQ0adMKFXinbDAwhA7GFamxNnY1WeXQ6elF-WQZV2wre-EdD3_vd7PIStVF8xPrT1ao7XI7k5Z_Q7gGBEttXUI-tH--dJn3_CO80HjFwFnrKgiS9WqN_J7VhQT5LkQzhTUvPCsjaFA9RQasmGff_to1V17ThiPx4hyBsAGNWhoNClzvTqPnrOda-cimCIgXFg8kKmPmYKQI_13fP48twztcxAbDDdlJaUu0LmTlzkjYc8c53uFnbImhUFhJoqSZgRCP-8J6Fl9hIWfpg/file\n",
            "Reusing existing connection to uc7206989cf466c331b0542ac785.dl.dropboxusercontent.com:443.\n",
            "HTTP request sent, awaiting response... 200 OK\n",
            "Length: 44663754 (43M) [application/zip]\n",
            "Saving to: ‘MLFinalProjectDataset.zip.1’\n",
            "\n",
            "MLFinalProjectDatas 100%[===================>]  42.59M  75.8MB/s    in 0.6s    \n",
            "\n",
            "2021-02-09 11:55:06 (75.8 MB/s) - ‘MLFinalProjectDataset.zip.1’ saved [44663754/44663754]\n",
            "\n"
          ],
          "name": "stdout"
        }
      ]
    },
    {
      "cell_type": "code",
      "metadata": {
        "id": "AH5d7-4J1p3b",
        "colab": {
          "base_uri": "https://localhost:8080/",
          "height": 191
        },
        "outputId": "e709a417-a30d-4ee6-a7a3-dbd2b19251a0"
      },
      "source": [
        "train_data.head()"
      ],
      "execution_count": null,
      "outputs": [
        {
          "output_type": "execute_result",
          "data": {
            "text/html": [
              "<div>\n",
              "<style scoped>\n",
              "    .dataframe tbody tr th:only-of-type {\n",
              "        vertical-align: middle;\n",
              "    }\n",
              "\n",
              "    .dataframe tbody tr th {\n",
              "        vertical-align: top;\n",
              "    }\n",
              "\n",
              "    .dataframe thead th {\n",
              "        text-align: right;\n",
              "    }\n",
              "</style>\n",
              "<table border=\"1\" class=\"dataframe\">\n",
              "  <thead>\n",
              "    <tr style=\"text-align: right;\">\n",
              "      <th></th>\n",
              "      <th>displayId</th>\n",
              "      <th>timestamp</th>\n",
              "      <th>dayOfWeek</th>\n",
              "      <th>hourOfDay</th>\n",
              "      <th>advertiserId</th>\n",
              "      <th>campaignId</th>\n",
              "      <th>creativeId</th>\n",
              "      <th>publisher</th>\n",
              "      <th>widgetId</th>\n",
              "      <th>device</th>\n",
              "      <th>os</th>\n",
              "      <th>browser</th>\n",
              "      <th>source</th>\n",
              "      <th>docId</th>\n",
              "      <th>userId</th>\n",
              "      <th>clicked</th>\n",
              "    </tr>\n",
              "  </thead>\n",
              "  <tbody>\n",
              "    <tr>\n",
              "      <th>0</th>\n",
              "      <td>4706262</td>\n",
              "      <td>1578429005696</td>\n",
              "      <td>4</td>\n",
              "      <td>0</td>\n",
              "      <td>290</td>\n",
              "      <td>7855</td>\n",
              "      <td>6</td>\n",
              "      <td>10</td>\n",
              "      <td>6262</td>\n",
              "      <td>0</td>\n",
              "      <td>0</td>\n",
              "      <td>0</td>\n",
              "      <td>11</td>\n",
              "      <td>3543873</td>\n",
              "      <td>2688642</td>\n",
              "      <td>1</td>\n",
              "    </tr>\n",
              "    <tr>\n",
              "      <th>1</th>\n",
              "      <td>4706262</td>\n",
              "      <td>1578429005696</td>\n",
              "      <td>4</td>\n",
              "      <td>0</td>\n",
              "      <td>1386</td>\n",
              "      <td>7967</td>\n",
              "      <td>15</td>\n",
              "      <td>10</td>\n",
              "      <td>6262</td>\n",
              "      <td>0</td>\n",
              "      <td>0</td>\n",
              "      <td>0</td>\n",
              "      <td>11</td>\n",
              "      <td>3543873</td>\n",
              "      <td>2688642</td>\n",
              "      <td>0</td>\n",
              "    </tr>\n",
              "    <tr>\n",
              "      <th>2</th>\n",
              "      <td>4706262</td>\n",
              "      <td>1578429005696</td>\n",
              "      <td>4</td>\n",
              "      <td>0</td>\n",
              "      <td>378</td>\n",
              "      <td>1160</td>\n",
              "      <td>3610</td>\n",
              "      <td>10</td>\n",
              "      <td>6262</td>\n",
              "      <td>0</td>\n",
              "      <td>0</td>\n",
              "      <td>0</td>\n",
              "      <td>11</td>\n",
              "      <td>3543873</td>\n",
              "      <td>2688642</td>\n",
              "      <td>0</td>\n",
              "    </tr>\n",
              "    <tr>\n",
              "      <th>3</th>\n",
              "      <td>4706267</td>\n",
              "      <td>1578429007726</td>\n",
              "      <td>4</td>\n",
              "      <td>0</td>\n",
              "      <td>6642</td>\n",
              "      <td>804</td>\n",
              "      <td>3475</td>\n",
              "      <td>14</td>\n",
              "      <td>607</td>\n",
              "      <td>1</td>\n",
              "      <td>3</td>\n",
              "      <td>0</td>\n",
              "      <td>15</td>\n",
              "      <td>6245475</td>\n",
              "      <td>2688641</td>\n",
              "      <td>1</td>\n",
              "    </tr>\n",
              "    <tr>\n",
              "      <th>4</th>\n",
              "      <td>4706267</td>\n",
              "      <td>1578429007726</td>\n",
              "      <td>4</td>\n",
              "      <td>0</td>\n",
              "      <td>8414</td>\n",
              "      <td>6155</td>\n",
              "      <td>5271</td>\n",
              "      <td>14</td>\n",
              "      <td>607</td>\n",
              "      <td>1</td>\n",
              "      <td>3</td>\n",
              "      <td>0</td>\n",
              "      <td>15</td>\n",
              "      <td>6245475</td>\n",
              "      <td>2688641</td>\n",
              "      <td>0</td>\n",
              "    </tr>\n",
              "  </tbody>\n",
              "</table>\n",
              "</div>"
            ],
            "text/plain": [
              "   displayId      timestamp  dayOfWeek  ...    docId   userId  clicked\n",
              "0    4706262  1578429005696          4  ...  3543873  2688642        1\n",
              "1    4706262  1578429005696          4  ...  3543873  2688642        0\n",
              "2    4706262  1578429005696          4  ...  3543873  2688642        0\n",
              "3    4706267  1578429007726          4  ...  6245475  2688641        1\n",
              "4    4706267  1578429007726          4  ...  6245475  2688641        0\n",
              "\n",
              "[5 rows x 16 columns]"
            ]
          },
          "metadata": {
            "tags": []
          },
          "execution_count": 7
        }
      ]
    },
    {
      "cell_type": "markdown",
      "metadata": {
        "id": "5pkgqwHLa-yk"
      },
      "source": [
        "### **1-2 An overview on columns data distribution and unique value counts**"
      ]
    },
    {
      "cell_type": "code",
      "metadata": {
        "colab": {
          "base_uri": "https://localhost:8080/"
        },
        "id": "Dr3JplzQSv9J",
        "outputId": "5e4f6898-7d72-4f71-d30c-dfc93e5da5bf"
      },
      "source": [
        "print(\"shape:\" , train_data.shape)\r\n",
        "print(\"unique count:\\n\",train_data.apply(lambda col: len(col.unique())),sep=\"\")"
      ],
      "execution_count": null,
      "outputs": [
        {
          "output_type": "stream",
          "text": [
            "shape: (3768416, 16)\n",
            "unique count:\n",
            "displayId       842181\n",
            "timestamp       773941\n",
            "dayOfWeek            7\n",
            "hourOfDay           24\n",
            "advertiserId       200\n",
            "campaignId         474\n",
            "creativeId        2696\n",
            "publisher          759\n",
            "widgetId          1165\n",
            "device               4\n",
            "os                   7\n",
            "browser             75\n",
            "source            2868\n",
            "docId           156623\n",
            "userId          669248\n",
            "clicked              2\n",
            "dtype: int64\n"
          ],
          "name": "stdout"
        }
      ]
    },
    {
      "cell_type": "markdown",
      "metadata": {
        "id": "pfgj0IKXOoXD"
      },
      "source": [
        "### **1-3 plotting the corr matrix of features**"
      ]
    },
    {
      "cell_type": "code",
      "metadata": {
        "id": "Uy7btEwaDjVh",
        "colab": {
          "base_uri": "https://localhost:8080/",
          "height": 393
        },
        "outputId": "6282f02b-5647-4087-e2d2-c897c6ef9a20"
      },
      "source": [
        "rs = np.random.RandomState(0)\r\n",
        "df = pd.DataFrame(rs.rand(10, 10))\r\n",
        "corr = train_data.corr()\r\n",
        "corr.style.background_gradient(cmap='coolwarm')"
      ],
      "execution_count": null,
      "outputs": [
        {
          "output_type": "execute_result",
          "data": {
            "text/html": [
              "<style  type=\"text/css\" >\n",
              "#T_dad312c4_6910_11eb_9cbc_0242ac1c0002row0_col0,#T_dad312c4_6910_11eb_9cbc_0242ac1c0002row1_col1,#T_dad312c4_6910_11eb_9cbc_0242ac1c0002row2_col2,#T_dad312c4_6910_11eb_9cbc_0242ac1c0002row3_col3,#T_dad312c4_6910_11eb_9cbc_0242ac1c0002row4_col4,#T_dad312c4_6910_11eb_9cbc_0242ac1c0002row5_col5,#T_dad312c4_6910_11eb_9cbc_0242ac1c0002row6_col6,#T_dad312c4_6910_11eb_9cbc_0242ac1c0002row7_col7,#T_dad312c4_6910_11eb_9cbc_0242ac1c0002row8_col8,#T_dad312c4_6910_11eb_9cbc_0242ac1c0002row9_col9,#T_dad312c4_6910_11eb_9cbc_0242ac1c0002row10_col10,#T_dad312c4_6910_11eb_9cbc_0242ac1c0002row11_col11,#T_dad312c4_6910_11eb_9cbc_0242ac1c0002row12_col12,#T_dad312c4_6910_11eb_9cbc_0242ac1c0002row13_col13,#T_dad312c4_6910_11eb_9cbc_0242ac1c0002row14_col14,#T_dad312c4_6910_11eb_9cbc_0242ac1c0002row15_col15{\n",
              "            background-color:  #b40426;\n",
              "            color:  #f1f1f1;\n",
              "        }#T_dad312c4_6910_11eb_9cbc_0242ac1c0002row0_col1,#T_dad312c4_6910_11eb_9cbc_0242ac1c0002row0_col3,#T_dad312c4_6910_11eb_9cbc_0242ac1c0002row0_col6,#T_dad312c4_6910_11eb_9cbc_0242ac1c0002row1_col0,#T_dad312c4_6910_11eb_9cbc_0242ac1c0002row1_col2,#T_dad312c4_6910_11eb_9cbc_0242ac1c0002row1_col5,#T_dad312c4_6910_11eb_9cbc_0242ac1c0002row1_col14,#T_dad312c4_6910_11eb_9cbc_0242ac1c0002row3_col9,#T_dad312c4_6910_11eb_9cbc_0242ac1c0002row6_col4,#T_dad312c4_6910_11eb_9cbc_0242ac1c0002row8_col7,#T_dad312c4_6910_11eb_9cbc_0242ac1c0002row8_col12,#T_dad312c4_6910_11eb_9cbc_0242ac1c0002row9_col15,#T_dad312c4_6910_11eb_9cbc_0242ac1c0002row12_col8,#T_dad312c4_6910_11eb_9cbc_0242ac1c0002row13_col10,#T_dad312c4_6910_11eb_9cbc_0242ac1c0002row13_col11,#T_dad312c4_6910_11eb_9cbc_0242ac1c0002row14_col13{\n",
              "            background-color:  #3b4cc0;\n",
              "            color:  #f1f1f1;\n",
              "        }#T_dad312c4_6910_11eb_9cbc_0242ac1c0002row0_col2,#T_dad312c4_6910_11eb_9cbc_0242ac1c0002row13_col0{\n",
              "            background-color:  #c7d7f0;\n",
              "            color:  #000000;\n",
              "        }#T_dad312c4_6910_11eb_9cbc_0242ac1c0002row0_col4,#T_dad312c4_6910_11eb_9cbc_0242ac1c0002row0_col15,#T_dad312c4_6910_11eb_9cbc_0242ac1c0002row3_col5,#T_dad312c4_6910_11eb_9cbc_0242ac1c0002row8_col15,#T_dad312c4_6910_11eb_9cbc_0242ac1c0002row10_col13,#T_dad312c4_6910_11eb_9cbc_0242ac1c0002row11_col15,#T_dad312c4_6910_11eb_9cbc_0242ac1c0002row13_col5,#T_dad312c4_6910_11eb_9cbc_0242ac1c0002row14_col3{\n",
              "            background-color:  #485fd1;\n",
              "            color:  #f1f1f1;\n",
              "        }#T_dad312c4_6910_11eb_9cbc_0242ac1c0002row0_col5,#T_dad312c4_6910_11eb_9cbc_0242ac1c0002row0_col8,#T_dad312c4_6910_11eb_9cbc_0242ac1c0002row3_col8,#T_dad312c4_6910_11eb_9cbc_0242ac1c0002row5_col12,#T_dad312c4_6910_11eb_9cbc_0242ac1c0002row6_col9,#T_dad312c4_6910_11eb_9cbc_0242ac1c0002row13_col8,#T_dad312c4_6910_11eb_9cbc_0242ac1c0002row15_col12,#T_dad312c4_6910_11eb_9cbc_0242ac1c0002row15_col13{\n",
              "            background-color:  #6c8ff1;\n",
              "            color:  #000000;\n",
              "        }#T_dad312c4_6910_11eb_9cbc_0242ac1c0002row0_col7,#T_dad312c4_6910_11eb_9cbc_0242ac1c0002row3_col4{\n",
              "            background-color:  #4257c9;\n",
              "            color:  #f1f1f1;\n",
              "        }#T_dad312c4_6910_11eb_9cbc_0242ac1c0002row0_col9,#T_dad312c4_6910_11eb_9cbc_0242ac1c0002row2_col9,#T_dad312c4_6910_11eb_9cbc_0242ac1c0002row5_col15{\n",
              "            background-color:  #4961d2;\n",
              "            color:  #f1f1f1;\n",
              "        }#T_dad312c4_6910_11eb_9cbc_0242ac1c0002row0_col10,#T_dad312c4_6910_11eb_9cbc_0242ac1c0002row2_col5{\n",
              "            background-color:  #5a78e4;\n",
              "            color:  #000000;\n",
              "        }#T_dad312c4_6910_11eb_9cbc_0242ac1c0002row0_col11,#T_dad312c4_6910_11eb_9cbc_0242ac1c0002row3_col11,#T_dad312c4_6910_11eb_9cbc_0242ac1c0002row5_col4,#T_dad312c4_6910_11eb_9cbc_0242ac1c0002row7_col15,#T_dad312c4_6910_11eb_9cbc_0242ac1c0002row8_col11,#T_dad312c4_6910_11eb_9cbc_0242ac1c0002row14_col7{\n",
              "            background-color:  #516ddb;\n",
              "            color:  #000000;\n",
              "        }#T_dad312c4_6910_11eb_9cbc_0242ac1c0002row0_col12,#T_dad312c4_6910_11eb_9cbc_0242ac1c0002row4_col5,#T_dad312c4_6910_11eb_9cbc_0242ac1c0002row12_col15,#T_dad312c4_6910_11eb_9cbc_0242ac1c0002row14_col6,#T_dad312c4_6910_11eb_9cbc_0242ac1c0002row15_col5,#T_dad312c4_6910_11eb_9cbc_0242ac1c0002row15_col11{\n",
              "            background-color:  #506bda;\n",
              "            color:  #000000;\n",
              "        }#T_dad312c4_6910_11eb_9cbc_0242ac1c0002row0_col13{\n",
              "            background-color:  #455cce;\n",
              "            color:  #f1f1f1;\n",
              "        }#T_dad312c4_6910_11eb_9cbc_0242ac1c0002row0_col14{\n",
              "            background-color:  #f29274;\n",
              "            color:  #000000;\n",
              "        }#T_dad312c4_6910_11eb_9cbc_0242ac1c0002row1_col3{\n",
              "            background-color:  #7699f6;\n",
              "            color:  #000000;\n",
              "        }#T_dad312c4_6910_11eb_9cbc_0242ac1c0002row1_col4,#T_dad312c4_6910_11eb_9cbc_0242ac1c0002row2_col12,#T_dad312c4_6910_11eb_9cbc_0242ac1c0002row5_col11,#T_dad312c4_6910_11eb_9cbc_0242ac1c0002row7_col5,#T_dad312c4_6910_11eb_9cbc_0242ac1c0002row7_col9,#T_dad312c4_6910_11eb_9cbc_0242ac1c0002row7_col11,#T_dad312c4_6910_11eb_9cbc_0242ac1c0002row9_col13,#T_dad312c4_6910_11eb_9cbc_0242ac1c0002row10_col7,#T_dad312c4_6910_11eb_9cbc_0242ac1c0002row14_col12{\n",
              "            background-color:  #5f7fe8;\n",
              "            color:  #000000;\n",
              "        }#T_dad312c4_6910_11eb_9cbc_0242ac1c0002row1_col6{\n",
              "            background-color:  #d2dbe8;\n",
              "            color:  #000000;\n",
              "        }#T_dad312c4_6910_11eb_9cbc_0242ac1c0002row1_col7,#T_dad312c4_6910_11eb_9cbc_0242ac1c0002row14_col1{\n",
              "            background-color:  #779af7;\n",
              "            color:  #000000;\n",
              "        }#T_dad312c4_6910_11eb_9cbc_0242ac1c0002row1_col8,#T_dad312c4_6910_11eb_9cbc_0242ac1c0002row4_col8,#T_dad312c4_6910_11eb_9cbc_0242ac1c0002row5_col13,#T_dad312c4_6910_11eb_9cbc_0242ac1c0002row6_col7,#T_dad312c4_6910_11eb_9cbc_0242ac1c0002row8_col10,#T_dad312c4_6910_11eb_9cbc_0242ac1c0002row14_col5{\n",
              "            background-color:  #6384eb;\n",
              "            color:  #000000;\n",
              "        }#T_dad312c4_6910_11eb_9cbc_0242ac1c0002row1_col9,#T_dad312c4_6910_11eb_9cbc_0242ac1c0002row4_col7,#T_dad312c4_6910_11eb_9cbc_0242ac1c0002row6_col5,#T_dad312c4_6910_11eb_9cbc_0242ac1c0002row7_col3,#T_dad312c4_6910_11eb_9cbc_0242ac1c0002row7_col10,#T_dad312c4_6910_11eb_9cbc_0242ac1c0002row10_col12,#T_dad312c4_6910_11eb_9cbc_0242ac1c0002row11_col4,#T_dad312c4_6910_11eb_9cbc_0242ac1c0002row11_col8,#T_dad312c4_6910_11eb_9cbc_0242ac1c0002row14_col8,#T_dad312c4_6910_11eb_9cbc_0242ac1c0002row15_col8{\n",
              "            background-color:  #6485ec;\n",
              "            color:  #000000;\n",
              "        }#T_dad312c4_6910_11eb_9cbc_0242ac1c0002row1_col10,#T_dad312c4_6910_11eb_9cbc_0242ac1c0002row4_col13,#T_dad312c4_6910_11eb_9cbc_0242ac1c0002row5_col7{\n",
              "            background-color:  #688aef;\n",
              "            color:  #000000;\n",
              "        }#T_dad312c4_6910_11eb_9cbc_0242ac1c0002row1_col11,#T_dad312c4_6910_11eb_9cbc_0242ac1c0002row8_col9,#T_dad312c4_6910_11eb_9cbc_0242ac1c0002row12_col4,#T_dad312c4_6910_11eb_9cbc_0242ac1c0002row12_col5{\n",
              "            background-color:  #5875e1;\n",
              "            color:  #000000;\n",
              "        }#T_dad312c4_6910_11eb_9cbc_0242ac1c0002row1_col12{\n",
              "            background-color:  #81a4fb;\n",
              "            color:  #000000;\n",
              "        }#T_dad312c4_6910_11eb_9cbc_0242ac1c0002row1_col13,#T_dad312c4_6910_11eb_9cbc_0242ac1c0002row9_col4{\n",
              "            background-color:  #9bbcff;\n",
              "            color:  #000000;\n",
              "        }#T_dad312c4_6910_11eb_9cbc_0242ac1c0002row1_col15{\n",
              "            background-color:  #4f69d9;\n",
              "            color:  #000000;\n",
              "        }#T_dad312c4_6910_11eb_9cbc_0242ac1c0002row2_col0{\n",
              "            background-color:  #f5c1a9;\n",
              "            color:  #000000;\n",
              "        }#T_dad312c4_6910_11eb_9cbc_0242ac1c0002row2_col1,#T_dad312c4_6910_11eb_9cbc_0242ac1c0002row7_col14{\n",
              "            background-color:  #b3cdfb;\n",
              "            color:  #000000;\n",
              "        }#T_dad312c4_6910_11eb_9cbc_0242ac1c0002row2_col3,#T_dad312c4_6910_11eb_9cbc_0242ac1c0002row8_col3,#T_dad312c4_6910_11eb_9cbc_0242ac1c0002row11_col5,#T_dad312c4_6910_11eb_9cbc_0242ac1c0002row14_col11{\n",
              "            background-color:  #5d7ce6;\n",
              "            color:  #000000;\n",
              "        }#T_dad312c4_6910_11eb_9cbc_0242ac1c0002row2_col4,#T_dad312c4_6910_11eb_9cbc_0242ac1c0002row15_col9{\n",
              "            background-color:  #445acc;\n",
              "            color:  #f1f1f1;\n",
              "        }#T_dad312c4_6910_11eb_9cbc_0242ac1c0002row2_col6,#T_dad312c4_6910_11eb_9cbc_0242ac1c0002row6_col3,#T_dad312c4_6910_11eb_9cbc_0242ac1c0002row8_col13,#T_dad312c4_6910_11eb_9cbc_0242ac1c0002row9_col2{\n",
              "            background-color:  #7396f5;\n",
              "            color:  #000000;\n",
              "        }#T_dad312c4_6910_11eb_9cbc_0242ac1c0002row2_col7,#T_dad312c4_6910_11eb_9cbc_0242ac1c0002row11_col3{\n",
              "            background-color:  #5572df;\n",
              "            color:  #000000;\n",
              "        }#T_dad312c4_6910_11eb_9cbc_0242ac1c0002row2_col8,#T_dad312c4_6910_11eb_9cbc_0242ac1c0002row4_col6,#T_dad312c4_6910_11eb_9cbc_0242ac1c0002row6_col2,#T_dad312c4_6910_11eb_9cbc_0242ac1c0002row6_col12,#T_dad312c4_6910_11eb_9cbc_0242ac1c0002row10_col5{\n",
              "            background-color:  #6e90f2;\n",
              "            color:  #000000;\n",
              "        }#T_dad312c4_6910_11eb_9cbc_0242ac1c0002row2_col10,#T_dad312c4_6910_11eb_9cbc_0242ac1c0002row7_col4{\n",
              "            background-color:  #5b7ae5;\n",
              "            color:  #000000;\n",
              "        }#T_dad312c4_6910_11eb_9cbc_0242ac1c0002row2_col11,#T_dad312c4_6910_11eb_9cbc_0242ac1c0002row11_col13,#T_dad312c4_6910_11eb_9cbc_0242ac1c0002row12_col9,#T_dad312c4_6910_11eb_9cbc_0242ac1c0002row15_col10{\n",
              "            background-color:  #5470de;\n",
              "            color:  #000000;\n",
              "        }#T_dad312c4_6910_11eb_9cbc_0242ac1c0002row2_col13,#T_dad312c4_6910_11eb_9cbc_0242ac1c0002row12_col10,#T_dad312c4_6910_11eb_9cbc_0242ac1c0002row12_col11{\n",
              "            background-color:  #5e7de7;\n",
              "            color:  #000000;\n",
              "        }#T_dad312c4_6910_11eb_9cbc_0242ac1c0002row2_col14,#T_dad312c4_6910_11eb_9cbc_0242ac1c0002row8_col1{\n",
              "            background-color:  #dadce0;\n",
              "            color:  #000000;\n",
              "        }#T_dad312c4_6910_11eb_9cbc_0242ac1c0002row2_col15,#T_dad312c4_6910_11eb_9cbc_0242ac1c0002row13_col4,#T_dad312c4_6910_11eb_9cbc_0242ac1c0002row14_col9{\n",
              "            background-color:  #4c66d6;\n",
              "            color:  #000000;\n",
              "        }#T_dad312c4_6910_11eb_9cbc_0242ac1c0002row3_col0{\n",
              "            background-color:  #cdd9ec;\n",
              "            color:  #000000;\n",
              "        }#T_dad312c4_6910_11eb_9cbc_0242ac1c0002row3_col1{\n",
              "            background-color:  #e9d5cb;\n",
              "            color:  #000000;\n",
              "        }#T_dad312c4_6910_11eb_9cbc_0242ac1c0002row3_col2{\n",
              "            background-color:  #85a8fc;\n",
              "            color:  #000000;\n",
              "        }#T_dad312c4_6910_11eb_9cbc_0242ac1c0002row3_col6,#T_dad312c4_6910_11eb_9cbc_0242ac1c0002row4_col9,#T_dad312c4_6910_11eb_9cbc_0242ac1c0002row10_col11{\n",
              "            background-color:  #9ebeff;\n",
              "            color:  #000000;\n",
              "        }#T_dad312c4_6910_11eb_9cbc_0242ac1c0002row3_col7,#T_dad312c4_6910_11eb_9cbc_0242ac1c0002row9_col12{\n",
              "            background-color:  #6788ee;\n",
              "            color:  #000000;\n",
              "        }#T_dad312c4_6910_11eb_9cbc_0242ac1c0002row3_col10,#T_dad312c4_6910_11eb_9cbc_0242ac1c0002row3_col15{\n",
              "            background-color:  #536edd;\n",
              "            color:  #000000;\n",
              "        }#T_dad312c4_6910_11eb_9cbc_0242ac1c0002row3_col12,#T_dad312c4_6910_11eb_9cbc_0242ac1c0002row4_col2{\n",
              "            background-color:  #7295f4;\n",
              "            color:  #000000;\n",
              "        }#T_dad312c4_6910_11eb_9cbc_0242ac1c0002row3_col13,#T_dad312c4_6910_11eb_9cbc_0242ac1c0002row15_col3{\n",
              "            background-color:  #6180e9;\n",
              "            color:  #000000;\n",
              "        }#T_dad312c4_6910_11eb_9cbc_0242ac1c0002row3_col14,#T_dad312c4_6910_11eb_9cbc_0242ac1c0002row6_col0,#T_dad312c4_6910_11eb_9cbc_0242ac1c0002row14_col2{\n",
              "            background-color:  #afcafc;\n",
              "            color:  #000000;\n",
              "        }#T_dad312c4_6910_11eb_9cbc_0242ac1c0002row4_col0{\n",
              "            background-color:  #d8dce2;\n",
              "            color:  #000000;\n",
              "        }#T_dad312c4_6910_11eb_9cbc_0242ac1c0002row4_col1{\n",
              "            background-color:  #e2dad5;\n",
              "            color:  #000000;\n",
              "        }#T_dad312c4_6910_11eb_9cbc_0242ac1c0002row4_col3,#T_dad312c4_6910_11eb_9cbc_0242ac1c0002row4_col15,#T_dad312c4_6910_11eb_9cbc_0242ac1c0002row7_col8,#T_dad312c4_6910_11eb_9cbc_0242ac1c0002row13_col9{\n",
              "            background-color:  #465ecf;\n",
              "            color:  #f1f1f1;\n",
              "        }#T_dad312c4_6910_11eb_9cbc_0242ac1c0002row4_col10{\n",
              "            background-color:  #97b8ff;\n",
              "            color:  #000000;\n",
              "        }#T_dad312c4_6910_11eb_9cbc_0242ac1c0002row4_col11,#T_dad312c4_6910_11eb_9cbc_0242ac1c0002row9_col7,#T_dad312c4_6910_11eb_9cbc_0242ac1c0002row11_col7,#T_dad312c4_6910_11eb_9cbc_0242ac1c0002row14_col10{\n",
              "            background-color:  #6687ed;\n",
              "            color:  #000000;\n",
              "        }#T_dad312c4_6910_11eb_9cbc_0242ac1c0002row4_col12{\n",
              "            background-color:  #6b8df0;\n",
              "            color:  #000000;\n",
              "        }#T_dad312c4_6910_11eb_9cbc_0242ac1c0002row4_col14{\n",
              "            background-color:  #b7cff9;\n",
              "            color:  #000000;\n",
              "        }#T_dad312c4_6910_11eb_9cbc_0242ac1c0002row5_col0,#T_dad312c4_6910_11eb_9cbc_0242ac1c0002row7_col1{\n",
              "            background-color:  #e8d6cc;\n",
              "            color:  #000000;\n",
              "        }#T_dad312c4_6910_11eb_9cbc_0242ac1c0002row5_col1,#T_dad312c4_6910_11eb_9cbc_0242ac1c0002row7_col0,#T_dad312c4_6910_11eb_9cbc_0242ac1c0002row12_col0{\n",
              "            background-color:  #d1dae9;\n",
              "            color:  #000000;\n",
              "        }#T_dad312c4_6910_11eb_9cbc_0242ac1c0002row5_col2{\n",
              "            background-color:  #88abfd;\n",
              "            color:  #000000;\n",
              "        }#T_dad312c4_6910_11eb_9cbc_0242ac1c0002row5_col3,#T_dad312c4_6910_11eb_9cbc_0242ac1c0002row8_col4,#T_dad312c4_6910_11eb_9cbc_0242ac1c0002row14_col4,#T_dad312c4_6910_11eb_9cbc_0242ac1c0002row15_col4{\n",
              "            background-color:  #4e68d8;\n",
              "            color:  #000000;\n",
              "        }#T_dad312c4_6910_11eb_9cbc_0242ac1c0002row5_col6{\n",
              "            background-color:  #96b7ff;\n",
              "            color:  #000000;\n",
              "        }#T_dad312c4_6910_11eb_9cbc_0242ac1c0002row5_col8,#T_dad312c4_6910_11eb_9cbc_0242ac1c0002row6_col10{\n",
              "            background-color:  #6f92f3;\n",
              "            color:  #000000;\n",
              "        }#T_dad312c4_6910_11eb_9cbc_0242ac1c0002row5_col9,#T_dad312c4_6910_11eb_9cbc_0242ac1c0002row12_col2,#T_dad312c4_6910_11eb_9cbc_0242ac1c0002row13_col7{\n",
              "            background-color:  #799cf8;\n",
              "            color:  #000000;\n",
              "        }#T_dad312c4_6910_11eb_9cbc_0242ac1c0002row5_col10{\n",
              "            background-color:  #7da0f9;\n",
              "            color:  #000000;\n",
              "        }#T_dad312c4_6910_11eb_9cbc_0242ac1c0002row5_col14{\n",
              "            background-color:  #c6d6f1;\n",
              "            color:  #000000;\n",
              "        }#T_dad312c4_6910_11eb_9cbc_0242ac1c0002row6_col1{\n",
              "            background-color:  #f6bda2;\n",
              "            color:  #000000;\n",
              "        }#T_dad312c4_6910_11eb_9cbc_0242ac1c0002row6_col8,#T_dad312c4_6910_11eb_9cbc_0242ac1c0002row9_col8,#T_dad312c4_6910_11eb_9cbc_0242ac1c0002row10_col8{\n",
              "            background-color:  #6a8bef;\n",
              "            color:  #000000;\n",
              "        }#T_dad312c4_6910_11eb_9cbc_0242ac1c0002row6_col11,#T_dad312c4_6910_11eb_9cbc_0242ac1c0002row8_col5{\n",
              "            background-color:  #5977e3;\n",
              "            color:  #000000;\n",
              "        }#T_dad312c4_6910_11eb_9cbc_0242ac1c0002row6_col13,#T_dad312c4_6910_11eb_9cbc_0242ac1c0002row10_col2{\n",
              "            background-color:  #7b9ff9;\n",
              "            color:  #000000;\n",
              "        }#T_dad312c4_6910_11eb_9cbc_0242ac1c0002row6_col14{\n",
              "            background-color:  #90b2fe;\n",
              "            color:  #000000;\n",
              "        }#T_dad312c4_6910_11eb_9cbc_0242ac1c0002row6_col15{\n",
              "            background-color:  #4358cb;\n",
              "            color:  #f1f1f1;\n",
              "        }#T_dad312c4_6910_11eb_9cbc_0242ac1c0002row7_col2{\n",
              "            background-color:  #7a9df8;\n",
              "            color:  #000000;\n",
              "        }#T_dad312c4_6910_11eb_9cbc_0242ac1c0002row7_col6{\n",
              "            background-color:  #8db0fe;\n",
              "            color:  #000000;\n",
              "        }#T_dad312c4_6910_11eb_9cbc_0242ac1c0002row7_col12{\n",
              "            background-color:  #d1493f;\n",
              "            color:  #f1f1f1;\n",
              "        }#T_dad312c4_6910_11eb_9cbc_0242ac1c0002row7_col13{\n",
              "            background-color:  #89acfd;\n",
              "            color:  #000000;\n",
              "        }#T_dad312c4_6910_11eb_9cbc_0242ac1c0002row8_col0{\n",
              "            background-color:  #dfdbd9;\n",
              "            color:  #000000;\n",
              "        }#T_dad312c4_6910_11eb_9cbc_0242ac1c0002row8_col2,#T_dad312c4_6910_11eb_9cbc_0242ac1c0002row8_col6{\n",
              "            background-color:  #86a9fc;\n",
              "            color:  #000000;\n",
              "        }#T_dad312c4_6910_11eb_9cbc_0242ac1c0002row8_col14{\n",
              "            background-color:  #b9d0f9;\n",
              "            color:  #000000;\n",
              "        }#T_dad312c4_6910_11eb_9cbc_0242ac1c0002row9_col0{\n",
              "            background-color:  #d6dce4;\n",
              "            color:  #000000;\n",
              "        }#T_dad312c4_6910_11eb_9cbc_0242ac1c0002row9_col1{\n",
              "            background-color:  #e3d9d3;\n",
              "            color:  #000000;\n",
              "        }#T_dad312c4_6910_11eb_9cbc_0242ac1c0002row9_col3{\n",
              "            background-color:  #3d50c3;\n",
              "            color:  #f1f1f1;\n",
              "        }#T_dad312c4_6910_11eb_9cbc_0242ac1c0002row9_col5{\n",
              "            background-color:  #7597f6;\n",
              "            color:  #000000;\n",
              "        }#T_dad312c4_6910_11eb_9cbc_0242ac1c0002row9_col6{\n",
              "            background-color:  #9abbff;\n",
              "            color:  #000000;\n",
              "        }#T_dad312c4_6910_11eb_9cbc_0242ac1c0002row9_col10{\n",
              "            background-color:  #f39475;\n",
              "            color:  #000000;\n",
              "        }#T_dad312c4_6910_11eb_9cbc_0242ac1c0002row9_col11,#T_dad312c4_6910_11eb_9cbc_0242ac1c0002row11_col9{\n",
              "            background-color:  #9dbdff;\n",
              "            color:  #000000;\n",
              "        }#T_dad312c4_6910_11eb_9cbc_0242ac1c0002row9_col14,#T_dad312c4_6910_11eb_9cbc_0242ac1c0002row12_col14{\n",
              "            background-color:  #b5cdfa;\n",
              "            color:  #000000;\n",
              "        }#T_dad312c4_6910_11eb_9cbc_0242ac1c0002row10_col0{\n",
              "            background-color:  #d9dce1;\n",
              "            color:  #000000;\n",
              "        }#T_dad312c4_6910_11eb_9cbc_0242ac1c0002row10_col1{\n",
              "            background-color:  #e0dbd8;\n",
              "            color:  #000000;\n",
              "        }#T_dad312c4_6910_11eb_9cbc_0242ac1c0002row10_col3,#T_dad312c4_6910_11eb_9cbc_0242ac1c0002row13_col15,#T_dad312c4_6910_11eb_9cbc_0242ac1c0002row14_col15{\n",
              "            background-color:  #4a63d3;\n",
              "            color:  #f1f1f1;\n",
              "        }#T_dad312c4_6910_11eb_9cbc_0242ac1c0002row10_col4,#T_dad312c4_6910_11eb_9cbc_0242ac1c0002row11_col6,#T_dad312c4_6910_11eb_9cbc_0242ac1c0002row12_col6{\n",
              "            background-color:  #8badfd;\n",
              "            color:  #000000;\n",
              "        }#T_dad312c4_6910_11eb_9cbc_0242ac1c0002row10_col6,#T_dad312c4_6910_11eb_9cbc_0242ac1c0002row13_col12{\n",
              "            background-color:  #93b5fe;\n",
              "            color:  #000000;\n",
              "        }#T_dad312c4_6910_11eb_9cbc_0242ac1c0002row10_col9{\n",
              "            background-color:  #f39778;\n",
              "            color:  #000000;\n",
              "        }#T_dad312c4_6910_11eb_9cbc_0242ac1c0002row10_col14{\n",
              "            background-color:  #bed2f6;\n",
              "            color:  #000000;\n",
              "        }#T_dad312c4_6910_11eb_9cbc_0242ac1c0002row10_col15{\n",
              "            background-color:  #3e51c5;\n",
              "            color:  #f1f1f1;\n",
              "        }#T_dad312c4_6910_11eb_9cbc_0242ac1c0002row11_col0,#T_dad312c4_6910_11eb_9cbc_0242ac1c0002row15_col0{\n",
              "            background-color:  #dbdcde;\n",
              "            color:  #000000;\n",
              "        }#T_dad312c4_6910_11eb_9cbc_0242ac1c0002row11_col1,#T_dad312c4_6910_11eb_9cbc_0242ac1c0002row15_col1{\n",
              "            background-color:  #dedcdb;\n",
              "            color:  #000000;\n",
              "        }#T_dad312c4_6910_11eb_9cbc_0242ac1c0002row11_col2{\n",
              "            background-color:  #80a3fa;\n",
              "            color:  #000000;\n",
              "        }#T_dad312c4_6910_11eb_9cbc_0242ac1c0002row11_col10{\n",
              "            background-color:  #a9c6fd;\n",
              "            color:  #000000;\n",
              "        }#T_dad312c4_6910_11eb_9cbc_0242ac1c0002row11_col12,#T_dad312c4_6910_11eb_9cbc_0242ac1c0002row13_col2{\n",
              "            background-color:  #7093f3;\n",
              "            color:  #000000;\n",
              "        }#T_dad312c4_6910_11eb_9cbc_0242ac1c0002row11_col14{\n",
              "            background-color:  #c0d4f5;\n",
              "            color:  #000000;\n",
              "        }#T_dad312c4_6910_11eb_9cbc_0242ac1c0002row12_col1{\n",
              "            background-color:  #e7d7ce;\n",
              "            color:  #000000;\n",
              "        }#T_dad312c4_6910_11eb_9cbc_0242ac1c0002row12_col3,#T_dad312c4_6910_11eb_9cbc_0242ac1c0002row15_col7{\n",
              "            background-color:  #6282ea;\n",
              "            color:  #000000;\n",
              "        }#T_dad312c4_6910_11eb_9cbc_0242ac1c0002row12_col7{\n",
              "            background-color:  #d24b40;\n",
              "            color:  #f1f1f1;\n",
              "        }#T_dad312c4_6910_11eb_9cbc_0242ac1c0002row12_col13{\n",
              "            background-color:  #98b9ff;\n",
              "            color:  #000000;\n",
              "        }#T_dad312c4_6910_11eb_9cbc_0242ac1c0002row13_col1{\n",
              "            background-color:  #eed0c0;\n",
              "            color:  #000000;\n",
              "        }#T_dad312c4_6910_11eb_9cbc_0242ac1c0002row13_col3{\n",
              "            background-color:  #4b64d5;\n",
              "            color:  #f1f1f1;\n",
              "        }#T_dad312c4_6910_11eb_9cbc_0242ac1c0002row13_col6,#T_dad312c4_6910_11eb_9cbc_0242ac1c0002row13_col14{\n",
              "            background-color:  #92b4fe;\n",
              "            color:  #000000;\n",
              "        }#T_dad312c4_6910_11eb_9cbc_0242ac1c0002row14_col0{\n",
              "            background-color:  #ec7f63;\n",
              "            color:  #000000;\n",
              "        }#T_dad312c4_6910_11eb_9cbc_0242ac1c0002row15_col2{\n",
              "            background-color:  #82a6fb;\n",
              "            color:  #000000;\n",
              "        }#T_dad312c4_6910_11eb_9cbc_0242ac1c0002row15_col6{\n",
              "            background-color:  #7ea1fa;\n",
              "            color:  #000000;\n",
              "        }#T_dad312c4_6910_11eb_9cbc_0242ac1c0002row15_col14{\n",
              "            background-color:  #bad0f8;\n",
              "            color:  #000000;\n",
              "        }</style><table id=\"T_dad312c4_6910_11eb_9cbc_0242ac1c0002\" ><thead>    <tr>        <th class=\"blank level0\" ></th>        <th class=\"col_heading level0 col0\" >displayId</th>        <th class=\"col_heading level0 col1\" >timestamp</th>        <th class=\"col_heading level0 col2\" >dayOfWeek</th>        <th class=\"col_heading level0 col3\" >hourOfDay</th>        <th class=\"col_heading level0 col4\" >advertiserId</th>        <th class=\"col_heading level0 col5\" >campaignId</th>        <th class=\"col_heading level0 col6\" >creativeId</th>        <th class=\"col_heading level0 col7\" >publisher</th>        <th class=\"col_heading level0 col8\" >widgetId</th>        <th class=\"col_heading level0 col9\" >device</th>        <th class=\"col_heading level0 col10\" >os</th>        <th class=\"col_heading level0 col11\" >browser</th>        <th class=\"col_heading level0 col12\" >source</th>        <th class=\"col_heading level0 col13\" >docId</th>        <th class=\"col_heading level0 col14\" >userId</th>        <th class=\"col_heading level0 col15\" >clicked</th>    </tr></thead><tbody>\n",
              "                <tr>\n",
              "                        <th id=\"T_dad312c4_6910_11eb_9cbc_0242ac1c0002level0_row0\" class=\"row_heading level0 row0\" >displayId</th>\n",
              "                        <td id=\"T_dad312c4_6910_11eb_9cbc_0242ac1c0002row0_col0\" class=\"data row0 col0\" >1.000000</td>\n",
              "                        <td id=\"T_dad312c4_6910_11eb_9cbc_0242ac1c0002row0_col1\" class=\"data row0 col1\" >-0.999576</td>\n",
              "                        <td id=\"T_dad312c4_6910_11eb_9cbc_0242ac1c0002row0_col2\" class=\"data row0 col2\" >0.267008</td>\n",
              "                        <td id=\"T_dad312c4_6910_11eb_9cbc_0242ac1c0002row0_col3\" class=\"data row0 col3\" >-0.109261</td>\n",
              "                        <td id=\"T_dad312c4_6910_11eb_9cbc_0242ac1c0002row0_col4\" class=\"data row0 col4\" >-0.038739</td>\n",
              "                        <td id=\"T_dad312c4_6910_11eb_9cbc_0242ac1c0002row0_col5\" class=\"data row0 col5\" >0.086692</td>\n",
              "                        <td id=\"T_dad312c4_6910_11eb_9cbc_0242ac1c0002row0_col6\" class=\"data row0 col6\" >-0.298989</td>\n",
              "                        <td id=\"T_dad312c4_6910_11eb_9cbc_0242ac1c0002row0_col7\" class=\"data row0 col7\" >-0.093374</td>\n",
              "                        <td id=\"T_dad312c4_6910_11eb_9cbc_0242ac1c0002row0_col8\" class=\"data row0 col8\" >0.015872</td>\n",
              "                        <td id=\"T_dad312c4_6910_11eb_9cbc_0242ac1c0002row0_col9\" class=\"data row0 col9\" >-0.047004</td>\n",
              "                        <td id=\"T_dad312c4_6910_11eb_9cbc_0242ac1c0002row0_col10\" class=\"data row0 col10\" >-0.023761</td>\n",
              "                        <td id=\"T_dad312c4_6910_11eb_9cbc_0242ac1c0002row0_col11\" class=\"data row0 col11\" >-0.010558</td>\n",
              "                        <td id=\"T_dad312c4_6910_11eb_9cbc_0242ac1c0002row0_col12\" class=\"data row0 col12\" >-0.086136</td>\n",
              "                        <td id=\"T_dad312c4_6910_11eb_9cbc_0242ac1c0002row0_col13\" class=\"data row0 col13\" >-0.149559</td>\n",
              "                        <td id=\"T_dad312c4_6910_11eb_9cbc_0242ac1c0002row0_col14\" class=\"data row0 col14\" >0.624640</td>\n",
              "                        <td id=\"T_dad312c4_6910_11eb_9cbc_0242ac1c0002row0_col15\" class=\"data row0 col15\" >-0.011117</td>\n",
              "            </tr>\n",
              "            <tr>\n",
              "                        <th id=\"T_dad312c4_6910_11eb_9cbc_0242ac1c0002level0_row1\" class=\"row_heading level0 row1\" >timestamp</th>\n",
              "                        <td id=\"T_dad312c4_6910_11eb_9cbc_0242ac1c0002row1_col0\" class=\"data row1 col0\" >-0.999576</td>\n",
              "                        <td id=\"T_dad312c4_6910_11eb_9cbc_0242ac1c0002row1_col1\" class=\"data row1 col1\" >1.000000</td>\n",
              "                        <td id=\"T_dad312c4_6910_11eb_9cbc_0242ac1c0002row1_col2\" class=\"data row1 col2\" >-0.274981</td>\n",
              "                        <td id=\"T_dad312c4_6910_11eb_9cbc_0242ac1c0002row1_col3\" class=\"data row1 col3\" >0.096178</td>\n",
              "                        <td id=\"T_dad312c4_6910_11eb_9cbc_0242ac1c0002row1_col4\" class=\"data row1 col4\" >0.039642</td>\n",
              "                        <td id=\"T_dad312c4_6910_11eb_9cbc_0242ac1c0002row1_col5\" class=\"data row1 col5\" >-0.085933</td>\n",
              "                        <td id=\"T_dad312c4_6910_11eb_9cbc_0242ac1c0002row1_col6\" class=\"data row1 col6\" >0.298288</td>\n",
              "                        <td id=\"T_dad312c4_6910_11eb_9cbc_0242ac1c0002row1_col7\" class=\"data row1 col7\" >0.092444</td>\n",
              "                        <td id=\"T_dad312c4_6910_11eb_9cbc_0242ac1c0002row1_col8\" class=\"data row1 col8\" >-0.015919</td>\n",
              "                        <td id=\"T_dad312c4_6910_11eb_9cbc_0242ac1c0002row1_col9\" class=\"data row1 col9\" >0.049721</td>\n",
              "                        <td id=\"T_dad312c4_6910_11eb_9cbc_0242ac1c0002row1_col10\" class=\"data row1 col10\" >0.025349</td>\n",
              "                        <td id=\"T_dad312c4_6910_11eb_9cbc_0242ac1c0002row1_col11\" class=\"data row1 col11\" >0.010843</td>\n",
              "                        <td id=\"T_dad312c4_6910_11eb_9cbc_0242ac1c0002row1_col12\" class=\"data row1 col12\" >0.084942</td>\n",
              "                        <td id=\"T_dad312c4_6910_11eb_9cbc_0242ac1c0002row1_col13\" class=\"data row1 col13\" >0.150770</td>\n",
              "                        <td id=\"T_dad312c4_6910_11eb_9cbc_0242ac1c0002row1_col14\" class=\"data row1 col14\" >-0.624653</td>\n",
              "                        <td id=\"T_dad312c4_6910_11eb_9cbc_0242ac1c0002row1_col15\" class=\"data row1 col15\" >0.010788</td>\n",
              "            </tr>\n",
              "            <tr>\n",
              "                        <th id=\"T_dad312c4_6910_11eb_9cbc_0242ac1c0002level0_row2\" class=\"row_heading level0 row2\" >dayOfWeek</th>\n",
              "                        <td id=\"T_dad312c4_6910_11eb_9cbc_0242ac1c0002row2_col0\" class=\"data row2 col0\" >0.267008</td>\n",
              "                        <td id=\"T_dad312c4_6910_11eb_9cbc_0242ac1c0002row2_col1\" class=\"data row2 col1\" >-0.274981</td>\n",
              "                        <td id=\"T_dad312c4_6910_11eb_9cbc_0242ac1c0002row2_col2\" class=\"data row2 col2\" >1.000000</td>\n",
              "                        <td id=\"T_dad312c4_6910_11eb_9cbc_0242ac1c0002row2_col3\" class=\"data row2 col3\" >0.014209</td>\n",
              "                        <td id=\"T_dad312c4_6910_11eb_9cbc_0242ac1c0002row2_col4\" class=\"data row2 col4\" >-0.054472</td>\n",
              "                        <td id=\"T_dad312c4_6910_11eb_9cbc_0242ac1c0002row2_col5\" class=\"data row2 col5\" >0.027222</td>\n",
              "                        <td id=\"T_dad312c4_6910_11eb_9cbc_0242ac1c0002row2_col6\" class=\"data row2 col6\" >-0.068386</td>\n",
              "                        <td id=\"T_dad312c4_6910_11eb_9cbc_0242ac1c0002row2_col7\" class=\"data row2 col7\" >-0.024605</td>\n",
              "                        <td id=\"T_dad312c4_6910_11eb_9cbc_0242ac1c0002row2_col8\" class=\"data row2 col8\" >0.020309</td>\n",
              "                        <td id=\"T_dad312c4_6910_11eb_9cbc_0242ac1c0002row2_col9\" class=\"data row2 col9\" >-0.046274</td>\n",
              "                        <td id=\"T_dad312c4_6910_11eb_9cbc_0242ac1c0002row2_col10\" class=\"data row2 col10\" >-0.020832</td>\n",
              "                        <td id=\"T_dad312c4_6910_11eb_9cbc_0242ac1c0002row2_col11\" class=\"data row2 col11\" >-0.003472</td>\n",
              "                        <td id=\"T_dad312c4_6910_11eb_9cbc_0242ac1c0002row2_col12\" class=\"data row2 col12\" >-0.028159</td>\n",
              "                        <td id=\"T_dad312c4_6910_11eb_9cbc_0242ac1c0002row2_col13\" class=\"data row2 col13\" >-0.057686</td>\n",
              "                        <td id=\"T_dad312c4_6910_11eb_9cbc_0242ac1c0002row2_col14\" class=\"data row2 col14\" >0.169751</td>\n",
              "                        <td id=\"T_dad312c4_6910_11eb_9cbc_0242ac1c0002row2_col15\" class=\"data row2 col15\" >0.005541</td>\n",
              "            </tr>\n",
              "            <tr>\n",
              "                        <th id=\"T_dad312c4_6910_11eb_9cbc_0242ac1c0002level0_row3\" class=\"row_heading level0 row3\" >hourOfDay</th>\n",
              "                        <td id=\"T_dad312c4_6910_11eb_9cbc_0242ac1c0002row3_col0\" class=\"data row3 col0\" >-0.109261</td>\n",
              "                        <td id=\"T_dad312c4_6910_11eb_9cbc_0242ac1c0002row3_col1\" class=\"data row3 col1\" >0.096178</td>\n",
              "                        <td id=\"T_dad312c4_6910_11eb_9cbc_0242ac1c0002row3_col2\" class=\"data row3 col2\" >0.014209</td>\n",
              "                        <td id=\"T_dad312c4_6910_11eb_9cbc_0242ac1c0002row3_col3\" class=\"data row3 col3\" >1.000000</td>\n",
              "                        <td id=\"T_dad312c4_6910_11eb_9cbc_0242ac1c0002row3_col4\" class=\"data row3 col4\" >-0.062731</td>\n",
              "                        <td id=\"T_dad312c4_6910_11eb_9cbc_0242ac1c0002row3_col5\" class=\"data row3 col5\" >-0.038465</td>\n",
              "                        <td id=\"T_dad312c4_6910_11eb_9cbc_0242ac1c0002row3_col6\" class=\"data row3 col6\" >0.089439</td>\n",
              "                        <td id=\"T_dad312c4_6910_11eb_9cbc_0242ac1c0002row3_col7\" class=\"data row3 col7\" >0.038169</td>\n",
              "                        <td id=\"T_dad312c4_6910_11eb_9cbc_0242ac1c0002row3_col8\" class=\"data row3 col8\" >0.015599</td>\n",
              "                        <td id=\"T_dad312c4_6910_11eb_9cbc_0242ac1c0002row3_col9\" class=\"data row3 col9\" >-0.098947</td>\n",
              "                        <td id=\"T_dad312c4_6910_11eb_9cbc_0242ac1c0002row3_col10\" class=\"data row3 col10\" >-0.050830</td>\n",
              "                        <td id=\"T_dad312c4_6910_11eb_9cbc_0242ac1c0002row3_col11\" class=\"data row3 col11\" >-0.011445</td>\n",
              "                        <td id=\"T_dad312c4_6910_11eb_9cbc_0242ac1c0002row3_col12\" class=\"data row3 col12\" >0.033141</td>\n",
              "                        <td id=\"T_dad312c4_6910_11eb_9cbc_0242ac1c0002row3_col13\" class=\"data row3 col13\" >-0.048379</td>\n",
              "                        <td id=\"T_dad312c4_6910_11eb_9cbc_0242ac1c0002row3_col14\" class=\"data row3 col14\" >-0.057528</td>\n",
              "                        <td id=\"T_dad312c4_6910_11eb_9cbc_0242ac1c0002row3_col15\" class=\"data row3 col15\" >0.025827</td>\n",
              "            </tr>\n",
              "            <tr>\n",
              "                        <th id=\"T_dad312c4_6910_11eb_9cbc_0242ac1c0002level0_row4\" class=\"row_heading level0 row4\" >advertiserId</th>\n",
              "                        <td id=\"T_dad312c4_6910_11eb_9cbc_0242ac1c0002row4_col0\" class=\"data row4 col0\" >-0.038739</td>\n",
              "                        <td id=\"T_dad312c4_6910_11eb_9cbc_0242ac1c0002row4_col1\" class=\"data row4 col1\" >0.039642</td>\n",
              "                        <td id=\"T_dad312c4_6910_11eb_9cbc_0242ac1c0002row4_col2\" class=\"data row4 col2\" >-0.054472</td>\n",
              "                        <td id=\"T_dad312c4_6910_11eb_9cbc_0242ac1c0002row4_col3\" class=\"data row4 col3\" >-0.062731</td>\n",
              "                        <td id=\"T_dad312c4_6910_11eb_9cbc_0242ac1c0002row4_col4\" class=\"data row4 col4\" >1.000000</td>\n",
              "                        <td id=\"T_dad312c4_6910_11eb_9cbc_0242ac1c0002row4_col5\" class=\"data row4 col5\" >-0.006102</td>\n",
              "                        <td id=\"T_dad312c4_6910_11eb_9cbc_0242ac1c0002row4_col6\" class=\"data row4 col6\" >-0.088942</td>\n",
              "                        <td id=\"T_dad312c4_6910_11eb_9cbc_0242ac1c0002row4_col7\" class=\"data row4 col7\" >0.028112</td>\n",
              "                        <td id=\"T_dad312c4_6910_11eb_9cbc_0242ac1c0002row4_col8\" class=\"data row4 col8\" >-0.018315</td>\n",
              "                        <td id=\"T_dad312c4_6910_11eb_9cbc_0242ac1c0002row4_col9\" class=\"data row4 col9\" >0.227712</td>\n",
              "                        <td id=\"T_dad312c4_6910_11eb_9cbc_0242ac1c0002row4_col10\" class=\"data row4 col10\" >0.175065</td>\n",
              "                        <td id=\"T_dad312c4_6910_11eb_9cbc_0242ac1c0002row4_col11\" class=\"data row4 col11\" >0.058017</td>\n",
              "                        <td id=\"T_dad312c4_6910_11eb_9cbc_0242ac1c0002row4_col12\" class=\"data row4 col12\" >0.013185</td>\n",
              "                        <td id=\"T_dad312c4_6910_11eb_9cbc_0242ac1c0002row4_col13\" class=\"data row4 col13\" >-0.022146</td>\n",
              "                        <td id=\"T_dad312c4_6910_11eb_9cbc_0242ac1c0002row4_col14\" class=\"data row4 col14\" >-0.018462</td>\n",
              "                        <td id=\"T_dad312c4_6910_11eb_9cbc_0242ac1c0002row4_col15\" class=\"data row4 col15\" >-0.018646</td>\n",
              "            </tr>\n",
              "            <tr>\n",
              "                        <th id=\"T_dad312c4_6910_11eb_9cbc_0242ac1c0002level0_row5\" class=\"row_heading level0 row5\" >campaignId</th>\n",
              "                        <td id=\"T_dad312c4_6910_11eb_9cbc_0242ac1c0002row5_col0\" class=\"data row5 col0\" >0.086692</td>\n",
              "                        <td id=\"T_dad312c4_6910_11eb_9cbc_0242ac1c0002row5_col1\" class=\"data row5 col1\" >-0.085933</td>\n",
              "                        <td id=\"T_dad312c4_6910_11eb_9cbc_0242ac1c0002row5_col2\" class=\"data row5 col2\" >0.027222</td>\n",
              "                        <td id=\"T_dad312c4_6910_11eb_9cbc_0242ac1c0002row5_col3\" class=\"data row5 col3\" >-0.038465</td>\n",
              "                        <td id=\"T_dad312c4_6910_11eb_9cbc_0242ac1c0002row5_col4\" class=\"data row5 col4\" >-0.006102</td>\n",
              "                        <td id=\"T_dad312c4_6910_11eb_9cbc_0242ac1c0002row5_col5\" class=\"data row5 col5\" >1.000000</td>\n",
              "                        <td id=\"T_dad312c4_6910_11eb_9cbc_0242ac1c0002row5_col6\" class=\"data row5 col6\" >0.058803</td>\n",
              "                        <td id=\"T_dad312c4_6910_11eb_9cbc_0242ac1c0002row5_col7\" class=\"data row5 col7\" >0.042668</td>\n",
              "                        <td id=\"T_dad312c4_6910_11eb_9cbc_0242ac1c0002row5_col8\" class=\"data row5 col8\" >0.023455</td>\n",
              "                        <td id=\"T_dad312c4_6910_11eb_9cbc_0242ac1c0002row5_col9\" class=\"data row5 col9\" >0.112267</td>\n",
              "                        <td id=\"T_dad312c4_6910_11eb_9cbc_0242ac1c0002row5_col10\" class=\"data row5 col10\" >0.090107</td>\n",
              "                        <td id=\"T_dad312c4_6910_11eb_9cbc_0242ac1c0002row5_col11\" class=\"data row5 col11\" >0.033739</td>\n",
              "                        <td id=\"T_dad312c4_6910_11eb_9cbc_0242ac1c0002row5_col12\" class=\"data row5 col12\" >0.017528</td>\n",
              "                        <td id=\"T_dad312c4_6910_11eb_9cbc_0242ac1c0002row5_col13\" class=\"data row5 col13\" >-0.038636</td>\n",
              "                        <td id=\"T_dad312c4_6910_11eb_9cbc_0242ac1c0002row5_col14\" class=\"data row5 col14\" >0.058037</td>\n",
              "                        <td id=\"T_dad312c4_6910_11eb_9cbc_0242ac1c0002row5_col15\" class=\"data row5 col15\" >-0.007142</td>\n",
              "            </tr>\n",
              "            <tr>\n",
              "                        <th id=\"T_dad312c4_6910_11eb_9cbc_0242ac1c0002level0_row6\" class=\"row_heading level0 row6\" >creativeId</th>\n",
              "                        <td id=\"T_dad312c4_6910_11eb_9cbc_0242ac1c0002row6_col0\" class=\"data row6 col0\" >-0.298989</td>\n",
              "                        <td id=\"T_dad312c4_6910_11eb_9cbc_0242ac1c0002row6_col1\" class=\"data row6 col1\" >0.298288</td>\n",
              "                        <td id=\"T_dad312c4_6910_11eb_9cbc_0242ac1c0002row6_col2\" class=\"data row6 col2\" >-0.068386</td>\n",
              "                        <td id=\"T_dad312c4_6910_11eb_9cbc_0242ac1c0002row6_col3\" class=\"data row6 col3\" >0.089439</td>\n",
              "                        <td id=\"T_dad312c4_6910_11eb_9cbc_0242ac1c0002row6_col4\" class=\"data row6 col4\" >-0.088942</td>\n",
              "                        <td id=\"T_dad312c4_6910_11eb_9cbc_0242ac1c0002row6_col5\" class=\"data row6 col5\" >0.058803</td>\n",
              "                        <td id=\"T_dad312c4_6910_11eb_9cbc_0242ac1c0002row6_col6\" class=\"data row6 col6\" >1.000000</td>\n",
              "                        <td id=\"T_dad312c4_6910_11eb_9cbc_0242ac1c0002row6_col7\" class=\"data row6 col7\" >0.026256</td>\n",
              "                        <td id=\"T_dad312c4_6910_11eb_9cbc_0242ac1c0002row6_col8\" class=\"data row6 col8\" >0.004654</td>\n",
              "                        <td id=\"T_dad312c4_6910_11eb_9cbc_0242ac1c0002row6_col9\" class=\"data row6 col9\" >0.073650</td>\n",
              "                        <td id=\"T_dad312c4_6910_11eb_9cbc_0242ac1c0002row6_col10\" class=\"data row6 col10\" >0.047017</td>\n",
              "                        <td id=\"T_dad312c4_6910_11eb_9cbc_0242ac1c0002row6_col11\" class=\"data row6 col11\" >0.015880</td>\n",
              "                        <td id=\"T_dad312c4_6910_11eb_9cbc_0242ac1c0002row6_col12\" class=\"data row6 col12\" >0.018633</td>\n",
              "                        <td id=\"T_dad312c4_6910_11eb_9cbc_0242ac1c0002row6_col13\" class=\"data row6 col13\" >0.043661</td>\n",
              "                        <td id=\"T_dad312c4_6910_11eb_9cbc_0242ac1c0002row6_col14\" class=\"data row6 col14\" >-0.202957</td>\n",
              "                        <td id=\"T_dad312c4_6910_11eb_9cbc_0242ac1c0002row6_col15\" class=\"data row6 col15\" >-0.027898</td>\n",
              "            </tr>\n",
              "            <tr>\n",
              "                        <th id=\"T_dad312c4_6910_11eb_9cbc_0242ac1c0002level0_row7\" class=\"row_heading level0 row7\" >publisher</th>\n",
              "                        <td id=\"T_dad312c4_6910_11eb_9cbc_0242ac1c0002row7_col0\" class=\"data row7 col0\" >-0.093374</td>\n",
              "                        <td id=\"T_dad312c4_6910_11eb_9cbc_0242ac1c0002row7_col1\" class=\"data row7 col1\" >0.092444</td>\n",
              "                        <td id=\"T_dad312c4_6910_11eb_9cbc_0242ac1c0002row7_col2\" class=\"data row7 col2\" >-0.024605</td>\n",
              "                        <td id=\"T_dad312c4_6910_11eb_9cbc_0242ac1c0002row7_col3\" class=\"data row7 col3\" >0.038169</td>\n",
              "                        <td id=\"T_dad312c4_6910_11eb_9cbc_0242ac1c0002row7_col4\" class=\"data row7 col4\" >0.028112</td>\n",
              "                        <td id=\"T_dad312c4_6910_11eb_9cbc_0242ac1c0002row7_col5\" class=\"data row7 col5\" >0.042668</td>\n",
              "                        <td id=\"T_dad312c4_6910_11eb_9cbc_0242ac1c0002row7_col6\" class=\"data row7 col6\" >0.026256</td>\n",
              "                        <td id=\"T_dad312c4_6910_11eb_9cbc_0242ac1c0002row7_col7\" class=\"data row7 col7\" >1.000000</td>\n",
              "                        <td id=\"T_dad312c4_6910_11eb_9cbc_0242ac1c0002row7_col8\" class=\"data row7 col8\" >-0.121920</td>\n",
              "                        <td id=\"T_dad312c4_6910_11eb_9cbc_0242ac1c0002row7_col9\" class=\"data row7 col9\" >0.031951</td>\n",
              "                        <td id=\"T_dad312c4_6910_11eb_9cbc_0242ac1c0002row7_col10\" class=\"data row7 col10\" >0.013144</td>\n",
              "                        <td id=\"T_dad312c4_6910_11eb_9cbc_0242ac1c0002row7_col11\" class=\"data row7 col11\" >0.034178</td>\n",
              "                        <td id=\"T_dad312c4_6910_11eb_9cbc_0242ac1c0002row7_col12\" class=\"data row7 col12\" >0.899853</td>\n",
              "                        <td id=\"T_dad312c4_6910_11eb_9cbc_0242ac1c0002row7_col13\" class=\"data row7 col13\" >0.093463</td>\n",
              "                        <td id=\"T_dad312c4_6910_11eb_9cbc_0242ac1c0002row7_col14\" class=\"data row7 col14\" >-0.037743</td>\n",
              "                        <td id=\"T_dad312c4_6910_11eb_9cbc_0242ac1c0002row7_col15\" class=\"data row7 col15\" >0.020335</td>\n",
              "            </tr>\n",
              "            <tr>\n",
              "                        <th id=\"T_dad312c4_6910_11eb_9cbc_0242ac1c0002level0_row8\" class=\"row_heading level0 row8\" >widgetId</th>\n",
              "                        <td id=\"T_dad312c4_6910_11eb_9cbc_0242ac1c0002row8_col0\" class=\"data row8 col0\" >0.015872</td>\n",
              "                        <td id=\"T_dad312c4_6910_11eb_9cbc_0242ac1c0002row8_col1\" class=\"data row8 col1\" >-0.015919</td>\n",
              "                        <td id=\"T_dad312c4_6910_11eb_9cbc_0242ac1c0002row8_col2\" class=\"data row8 col2\" >0.020309</td>\n",
              "                        <td id=\"T_dad312c4_6910_11eb_9cbc_0242ac1c0002row8_col3\" class=\"data row8 col3\" >0.015599</td>\n",
              "                        <td id=\"T_dad312c4_6910_11eb_9cbc_0242ac1c0002row8_col4\" class=\"data row8 col4\" >-0.018315</td>\n",
              "                        <td id=\"T_dad312c4_6910_11eb_9cbc_0242ac1c0002row8_col5\" class=\"data row8 col5\" >0.023455</td>\n",
              "                        <td id=\"T_dad312c4_6910_11eb_9cbc_0242ac1c0002row8_col6\" class=\"data row8 col6\" >0.004654</td>\n",
              "                        <td id=\"T_dad312c4_6910_11eb_9cbc_0242ac1c0002row8_col7\" class=\"data row8 col7\" >-0.121920</td>\n",
              "                        <td id=\"T_dad312c4_6910_11eb_9cbc_0242ac1c0002row8_col8\" class=\"data row8 col8\" >1.000000</td>\n",
              "                        <td id=\"T_dad312c4_6910_11eb_9cbc_0242ac1c0002row8_col9\" class=\"data row8 col9\" >0.007146</td>\n",
              "                        <td id=\"T_dad312c4_6910_11eb_9cbc_0242ac1c0002row8_col10\" class=\"data row8 col10\" >0.007401</td>\n",
              "                        <td id=\"T_dad312c4_6910_11eb_9cbc_0242ac1c0002row8_col11\" class=\"data row8 col11\" >-0.012770</td>\n",
              "                        <td id=\"T_dad312c4_6910_11eb_9cbc_0242ac1c0002row8_col12\" class=\"data row8 col12\" >-0.169247</td>\n",
              "                        <td id=\"T_dad312c4_6910_11eb_9cbc_0242ac1c0002row8_col13\" class=\"data row8 col13\" >0.017874</td>\n",
              "                        <td id=\"T_dad312c4_6910_11eb_9cbc_0242ac1c0002row8_col14\" class=\"data row8 col14\" >-0.012772</td>\n",
              "                        <td id=\"T_dad312c4_6910_11eb_9cbc_0242ac1c0002row8_col15\" class=\"data row8 col15\" >-0.012172</td>\n",
              "            </tr>\n",
              "            <tr>\n",
              "                        <th id=\"T_dad312c4_6910_11eb_9cbc_0242ac1c0002level0_row9\" class=\"row_heading level0 row9\" >device</th>\n",
              "                        <td id=\"T_dad312c4_6910_11eb_9cbc_0242ac1c0002row9_col0\" class=\"data row9 col0\" >-0.047004</td>\n",
              "                        <td id=\"T_dad312c4_6910_11eb_9cbc_0242ac1c0002row9_col1\" class=\"data row9 col1\" >0.049721</td>\n",
              "                        <td id=\"T_dad312c4_6910_11eb_9cbc_0242ac1c0002row9_col2\" class=\"data row9 col2\" >-0.046274</td>\n",
              "                        <td id=\"T_dad312c4_6910_11eb_9cbc_0242ac1c0002row9_col3\" class=\"data row9 col3\" >-0.098947</td>\n",
              "                        <td id=\"T_dad312c4_6910_11eb_9cbc_0242ac1c0002row9_col4\" class=\"data row9 col4\" >0.227712</td>\n",
              "                        <td id=\"T_dad312c4_6910_11eb_9cbc_0242ac1c0002row9_col5\" class=\"data row9 col5\" >0.112267</td>\n",
              "                        <td id=\"T_dad312c4_6910_11eb_9cbc_0242ac1c0002row9_col6\" class=\"data row9 col6\" >0.073650</td>\n",
              "                        <td id=\"T_dad312c4_6910_11eb_9cbc_0242ac1c0002row9_col7\" class=\"data row9 col7\" >0.031951</td>\n",
              "                        <td id=\"T_dad312c4_6910_11eb_9cbc_0242ac1c0002row9_col8\" class=\"data row9 col8\" >0.007146</td>\n",
              "                        <td id=\"T_dad312c4_6910_11eb_9cbc_0242ac1c0002row9_col9\" class=\"data row9 col9\" >1.000000</td>\n",
              "                        <td id=\"T_dad312c4_6910_11eb_9cbc_0242ac1c0002row9_col10\" class=\"data row9 col10\" >0.731198</td>\n",
              "                        <td id=\"T_dad312c4_6910_11eb_9cbc_0242ac1c0002row9_col11\" class=\"data row9 col11\" >0.225787</td>\n",
              "                        <td id=\"T_dad312c4_6910_11eb_9cbc_0242ac1c0002row9_col12\" class=\"data row9 col12\" >-0.004713</td>\n",
              "                        <td id=\"T_dad312c4_6910_11eb_9cbc_0242ac1c0002row9_col13\" class=\"data row9 col13\" >-0.051937</td>\n",
              "                        <td id=\"T_dad312c4_6910_11eb_9cbc_0242ac1c0002row9_col14\" class=\"data row9 col14\" >-0.033065</td>\n",
              "                        <td id=\"T_dad312c4_6910_11eb_9cbc_0242ac1c0002row9_col15\" class=\"data row9 col15\" >-0.060638</td>\n",
              "            </tr>\n",
              "            <tr>\n",
              "                        <th id=\"T_dad312c4_6910_11eb_9cbc_0242ac1c0002level0_row10\" class=\"row_heading level0 row10\" >os</th>\n",
              "                        <td id=\"T_dad312c4_6910_11eb_9cbc_0242ac1c0002row10_col0\" class=\"data row10 col0\" >-0.023761</td>\n",
              "                        <td id=\"T_dad312c4_6910_11eb_9cbc_0242ac1c0002row10_col1\" class=\"data row10 col1\" >0.025349</td>\n",
              "                        <td id=\"T_dad312c4_6910_11eb_9cbc_0242ac1c0002row10_col2\" class=\"data row10 col2\" >-0.020832</td>\n",
              "                        <td id=\"T_dad312c4_6910_11eb_9cbc_0242ac1c0002row10_col3\" class=\"data row10 col3\" >-0.050830</td>\n",
              "                        <td id=\"T_dad312c4_6910_11eb_9cbc_0242ac1c0002row10_col4\" class=\"data row10 col4\" >0.175065</td>\n",
              "                        <td id=\"T_dad312c4_6910_11eb_9cbc_0242ac1c0002row10_col5\" class=\"data row10 col5\" >0.090107</td>\n",
              "                        <td id=\"T_dad312c4_6910_11eb_9cbc_0242ac1c0002row10_col6\" class=\"data row10 col6\" >0.047017</td>\n",
              "                        <td id=\"T_dad312c4_6910_11eb_9cbc_0242ac1c0002row10_col7\" class=\"data row10 col7\" >0.013144</td>\n",
              "                        <td id=\"T_dad312c4_6910_11eb_9cbc_0242ac1c0002row10_col8\" class=\"data row10 col8\" >0.007401</td>\n",
              "                        <td id=\"T_dad312c4_6910_11eb_9cbc_0242ac1c0002row10_col9\" class=\"data row10 col9\" >0.731198</td>\n",
              "                        <td id=\"T_dad312c4_6910_11eb_9cbc_0242ac1c0002row10_col10\" class=\"data row10 col10\" >1.000000</td>\n",
              "                        <td id=\"T_dad312c4_6910_11eb_9cbc_0242ac1c0002row10_col11\" class=\"data row10 col11\" >0.233173</td>\n",
              "                        <td id=\"T_dad312c4_6910_11eb_9cbc_0242ac1c0002row10_col12\" class=\"data row10 col12\" >-0.012606</td>\n",
              "                        <td id=\"T_dad312c4_6910_11eb_9cbc_0242ac1c0002row10_col13\" class=\"data row10 col13\" >-0.143042</td>\n",
              "                        <td id=\"T_dad312c4_6910_11eb_9cbc_0242ac1c0002row10_col14\" class=\"data row10 col14\" >0.015706</td>\n",
              "                        <td id=\"T_dad312c4_6910_11eb_9cbc_0242ac1c0002row10_col15\" class=\"data row10 col15\" >-0.047072</td>\n",
              "            </tr>\n",
              "            <tr>\n",
              "                        <th id=\"T_dad312c4_6910_11eb_9cbc_0242ac1c0002level0_row11\" class=\"row_heading level0 row11\" >browser</th>\n",
              "                        <td id=\"T_dad312c4_6910_11eb_9cbc_0242ac1c0002row11_col0\" class=\"data row11 col0\" >-0.010558</td>\n",
              "                        <td id=\"T_dad312c4_6910_11eb_9cbc_0242ac1c0002row11_col1\" class=\"data row11 col1\" >0.010843</td>\n",
              "                        <td id=\"T_dad312c4_6910_11eb_9cbc_0242ac1c0002row11_col2\" class=\"data row11 col2\" >-0.003472</td>\n",
              "                        <td id=\"T_dad312c4_6910_11eb_9cbc_0242ac1c0002row11_col3\" class=\"data row11 col3\" >-0.011445</td>\n",
              "                        <td id=\"T_dad312c4_6910_11eb_9cbc_0242ac1c0002row11_col4\" class=\"data row11 col4\" >0.058017</td>\n",
              "                        <td id=\"T_dad312c4_6910_11eb_9cbc_0242ac1c0002row11_col5\" class=\"data row11 col5\" >0.033739</td>\n",
              "                        <td id=\"T_dad312c4_6910_11eb_9cbc_0242ac1c0002row11_col6\" class=\"data row11 col6\" >0.015880</td>\n",
              "                        <td id=\"T_dad312c4_6910_11eb_9cbc_0242ac1c0002row11_col7\" class=\"data row11 col7\" >0.034178</td>\n",
              "                        <td id=\"T_dad312c4_6910_11eb_9cbc_0242ac1c0002row11_col8\" class=\"data row11 col8\" >-0.012770</td>\n",
              "                        <td id=\"T_dad312c4_6910_11eb_9cbc_0242ac1c0002row11_col9\" class=\"data row11 col9\" >0.225787</td>\n",
              "                        <td id=\"T_dad312c4_6910_11eb_9cbc_0242ac1c0002row11_col10\" class=\"data row11 col10\" >0.233173</td>\n",
              "                        <td id=\"T_dad312c4_6910_11eb_9cbc_0242ac1c0002row11_col11\" class=\"data row11 col11\" >1.000000</td>\n",
              "                        <td id=\"T_dad312c4_6910_11eb_9cbc_0242ac1c0002row11_col12\" class=\"data row11 col12\" >0.031527</td>\n",
              "                        <td id=\"T_dad312c4_6910_11eb_9cbc_0242ac1c0002row11_col13\" class=\"data row11 col13\" >-0.095353</td>\n",
              "                        <td id=\"T_dad312c4_6910_11eb_9cbc_0242ac1c0002row11_col14\" class=\"data row11 col14\" >0.026381</td>\n",
              "                        <td id=\"T_dad312c4_6910_11eb_9cbc_0242ac1c0002row11_col15\" class=\"data row11 col15\" >-0.014296</td>\n",
              "            </tr>\n",
              "            <tr>\n",
              "                        <th id=\"T_dad312c4_6910_11eb_9cbc_0242ac1c0002level0_row12\" class=\"row_heading level0 row12\" >source</th>\n",
              "                        <td id=\"T_dad312c4_6910_11eb_9cbc_0242ac1c0002row12_col0\" class=\"data row12 col0\" >-0.086136</td>\n",
              "                        <td id=\"T_dad312c4_6910_11eb_9cbc_0242ac1c0002row12_col1\" class=\"data row12 col1\" >0.084942</td>\n",
              "                        <td id=\"T_dad312c4_6910_11eb_9cbc_0242ac1c0002row12_col2\" class=\"data row12 col2\" >-0.028159</td>\n",
              "                        <td id=\"T_dad312c4_6910_11eb_9cbc_0242ac1c0002row12_col3\" class=\"data row12 col3\" >0.033141</td>\n",
              "                        <td id=\"T_dad312c4_6910_11eb_9cbc_0242ac1c0002row12_col4\" class=\"data row12 col4\" >0.013185</td>\n",
              "                        <td id=\"T_dad312c4_6910_11eb_9cbc_0242ac1c0002row12_col5\" class=\"data row12 col5\" >0.017528</td>\n",
              "                        <td id=\"T_dad312c4_6910_11eb_9cbc_0242ac1c0002row12_col6\" class=\"data row12 col6\" >0.018633</td>\n",
              "                        <td id=\"T_dad312c4_6910_11eb_9cbc_0242ac1c0002row12_col7\" class=\"data row12 col7\" >0.899853</td>\n",
              "                        <td id=\"T_dad312c4_6910_11eb_9cbc_0242ac1c0002row12_col8\" class=\"data row12 col8\" >-0.169247</td>\n",
              "                        <td id=\"T_dad312c4_6910_11eb_9cbc_0242ac1c0002row12_col9\" class=\"data row12 col9\" >-0.004713</td>\n",
              "                        <td id=\"T_dad312c4_6910_11eb_9cbc_0242ac1c0002row12_col10\" class=\"data row12 col10\" >-0.012606</td>\n",
              "                        <td id=\"T_dad312c4_6910_11eb_9cbc_0242ac1c0002row12_col11\" class=\"data row12 col11\" >0.031527</td>\n",
              "                        <td id=\"T_dad312c4_6910_11eb_9cbc_0242ac1c0002row12_col12\" class=\"data row12 col12\" >1.000000</td>\n",
              "                        <td id=\"T_dad312c4_6910_11eb_9cbc_0242ac1c0002row12_col13\" class=\"data row12 col13\" >0.142686</td>\n",
              "                        <td id=\"T_dad312c4_6910_11eb_9cbc_0242ac1c0002row12_col14\" class=\"data row12 col14\" >-0.031472</td>\n",
              "                        <td id=\"T_dad312c4_6910_11eb_9cbc_0242ac1c0002row12_col15\" class=\"data row12 col15\" >0.016000</td>\n",
              "            </tr>\n",
              "            <tr>\n",
              "                        <th id=\"T_dad312c4_6910_11eb_9cbc_0242ac1c0002level0_row13\" class=\"row_heading level0 row13\" >docId</th>\n",
              "                        <td id=\"T_dad312c4_6910_11eb_9cbc_0242ac1c0002row13_col0\" class=\"data row13 col0\" >-0.149559</td>\n",
              "                        <td id=\"T_dad312c4_6910_11eb_9cbc_0242ac1c0002row13_col1\" class=\"data row13 col1\" >0.150770</td>\n",
              "                        <td id=\"T_dad312c4_6910_11eb_9cbc_0242ac1c0002row13_col2\" class=\"data row13 col2\" >-0.057686</td>\n",
              "                        <td id=\"T_dad312c4_6910_11eb_9cbc_0242ac1c0002row13_col3\" class=\"data row13 col3\" >-0.048379</td>\n",
              "                        <td id=\"T_dad312c4_6910_11eb_9cbc_0242ac1c0002row13_col4\" class=\"data row13 col4\" >-0.022146</td>\n",
              "                        <td id=\"T_dad312c4_6910_11eb_9cbc_0242ac1c0002row13_col5\" class=\"data row13 col5\" >-0.038636</td>\n",
              "                        <td id=\"T_dad312c4_6910_11eb_9cbc_0242ac1c0002row13_col6\" class=\"data row13 col6\" >0.043661</td>\n",
              "                        <td id=\"T_dad312c4_6910_11eb_9cbc_0242ac1c0002row13_col7\" class=\"data row13 col7\" >0.093463</td>\n",
              "                        <td id=\"T_dad312c4_6910_11eb_9cbc_0242ac1c0002row13_col8\" class=\"data row13 col8\" >0.017874</td>\n",
              "                        <td id=\"T_dad312c4_6910_11eb_9cbc_0242ac1c0002row13_col9\" class=\"data row13 col9\" >-0.051937</td>\n",
              "                        <td id=\"T_dad312c4_6910_11eb_9cbc_0242ac1c0002row13_col10\" class=\"data row13 col10\" >-0.143042</td>\n",
              "                        <td id=\"T_dad312c4_6910_11eb_9cbc_0242ac1c0002row13_col11\" class=\"data row13 col11\" >-0.095353</td>\n",
              "                        <td id=\"T_dad312c4_6910_11eb_9cbc_0242ac1c0002row13_col12\" class=\"data row13 col12\" >0.142686</td>\n",
              "                        <td id=\"T_dad312c4_6910_11eb_9cbc_0242ac1c0002row13_col13\" class=\"data row13 col13\" >1.000000</td>\n",
              "                        <td id=\"T_dad312c4_6910_11eb_9cbc_0242ac1c0002row13_col14\" class=\"data row13 col14\" >-0.196164</td>\n",
              "                        <td id=\"T_dad312c4_6910_11eb_9cbc_0242ac1c0002row13_col15\" class=\"data row13 col15\" >-0.005830</td>\n",
              "            </tr>\n",
              "            <tr>\n",
              "                        <th id=\"T_dad312c4_6910_11eb_9cbc_0242ac1c0002level0_row14\" class=\"row_heading level0 row14\" >userId</th>\n",
              "                        <td id=\"T_dad312c4_6910_11eb_9cbc_0242ac1c0002row14_col0\" class=\"data row14 col0\" >0.624640</td>\n",
              "                        <td id=\"T_dad312c4_6910_11eb_9cbc_0242ac1c0002row14_col1\" class=\"data row14 col1\" >-0.624653</td>\n",
              "                        <td id=\"T_dad312c4_6910_11eb_9cbc_0242ac1c0002row14_col2\" class=\"data row14 col2\" >0.169751</td>\n",
              "                        <td id=\"T_dad312c4_6910_11eb_9cbc_0242ac1c0002row14_col3\" class=\"data row14 col3\" >-0.057528</td>\n",
              "                        <td id=\"T_dad312c4_6910_11eb_9cbc_0242ac1c0002row14_col4\" class=\"data row14 col4\" >-0.018462</td>\n",
              "                        <td id=\"T_dad312c4_6910_11eb_9cbc_0242ac1c0002row14_col5\" class=\"data row14 col5\" >0.058037</td>\n",
              "                        <td id=\"T_dad312c4_6910_11eb_9cbc_0242ac1c0002row14_col6\" class=\"data row14 col6\" >-0.202957</td>\n",
              "                        <td id=\"T_dad312c4_6910_11eb_9cbc_0242ac1c0002row14_col7\" class=\"data row14 col7\" >-0.037743</td>\n",
              "                        <td id=\"T_dad312c4_6910_11eb_9cbc_0242ac1c0002row14_col8\" class=\"data row14 col8\" >-0.012772</td>\n",
              "                        <td id=\"T_dad312c4_6910_11eb_9cbc_0242ac1c0002row14_col9\" class=\"data row14 col9\" >-0.033065</td>\n",
              "                        <td id=\"T_dad312c4_6910_11eb_9cbc_0242ac1c0002row14_col10\" class=\"data row14 col10\" >0.015706</td>\n",
              "                        <td id=\"T_dad312c4_6910_11eb_9cbc_0242ac1c0002row14_col11\" class=\"data row14 col11\" >0.026381</td>\n",
              "                        <td id=\"T_dad312c4_6910_11eb_9cbc_0242ac1c0002row14_col12\" class=\"data row14 col12\" >-0.031472</td>\n",
              "                        <td id=\"T_dad312c4_6910_11eb_9cbc_0242ac1c0002row14_col13\" class=\"data row14 col13\" >-0.196164</td>\n",
              "                        <td id=\"T_dad312c4_6910_11eb_9cbc_0242ac1c0002row14_col14\" class=\"data row14 col14\" >1.000000</td>\n",
              "                        <td id=\"T_dad312c4_6910_11eb_9cbc_0242ac1c0002row14_col15\" class=\"data row14 col15\" >-0.006435</td>\n",
              "            </tr>\n",
              "            <tr>\n",
              "                        <th id=\"T_dad312c4_6910_11eb_9cbc_0242ac1c0002level0_row15\" class=\"row_heading level0 row15\" >clicked</th>\n",
              "                        <td id=\"T_dad312c4_6910_11eb_9cbc_0242ac1c0002row15_col0\" class=\"data row15 col0\" >-0.011117</td>\n",
              "                        <td id=\"T_dad312c4_6910_11eb_9cbc_0242ac1c0002row15_col1\" class=\"data row15 col1\" >0.010788</td>\n",
              "                        <td id=\"T_dad312c4_6910_11eb_9cbc_0242ac1c0002row15_col2\" class=\"data row15 col2\" >0.005541</td>\n",
              "                        <td id=\"T_dad312c4_6910_11eb_9cbc_0242ac1c0002row15_col3\" class=\"data row15 col3\" >0.025827</td>\n",
              "                        <td id=\"T_dad312c4_6910_11eb_9cbc_0242ac1c0002row15_col4\" class=\"data row15 col4\" >-0.018646</td>\n",
              "                        <td id=\"T_dad312c4_6910_11eb_9cbc_0242ac1c0002row15_col5\" class=\"data row15 col5\" >-0.007142</td>\n",
              "                        <td id=\"T_dad312c4_6910_11eb_9cbc_0242ac1c0002row15_col6\" class=\"data row15 col6\" >-0.027898</td>\n",
              "                        <td id=\"T_dad312c4_6910_11eb_9cbc_0242ac1c0002row15_col7\" class=\"data row15 col7\" >0.020335</td>\n",
              "                        <td id=\"T_dad312c4_6910_11eb_9cbc_0242ac1c0002row15_col8\" class=\"data row15 col8\" >-0.012172</td>\n",
              "                        <td id=\"T_dad312c4_6910_11eb_9cbc_0242ac1c0002row15_col9\" class=\"data row15 col9\" >-0.060638</td>\n",
              "                        <td id=\"T_dad312c4_6910_11eb_9cbc_0242ac1c0002row15_col10\" class=\"data row15 col10\" >-0.047072</td>\n",
              "                        <td id=\"T_dad312c4_6910_11eb_9cbc_0242ac1c0002row15_col11\" class=\"data row15 col11\" >-0.014296</td>\n",
              "                        <td id=\"T_dad312c4_6910_11eb_9cbc_0242ac1c0002row15_col12\" class=\"data row15 col12\" >0.016000</td>\n",
              "                        <td id=\"T_dad312c4_6910_11eb_9cbc_0242ac1c0002row15_col13\" class=\"data row15 col13\" >-0.005830</td>\n",
              "                        <td id=\"T_dad312c4_6910_11eb_9cbc_0242ac1c0002row15_col14\" class=\"data row15 col14\" >-0.006435</td>\n",
              "                        <td id=\"T_dad312c4_6910_11eb_9cbc_0242ac1c0002row15_col15\" class=\"data row15 col15\" >1.000000</td>\n",
              "            </tr>\n",
              "    </tbody></table>"
            ],
            "text/plain": [
              "<pandas.io.formats.style.Styler at 0x7f4a2b068eb8>"
            ]
          },
          "metadata": {
            "tags": []
          },
          "execution_count": 5
        }
      ]
    },
    {
      "cell_type": "markdown",
      "metadata": {
        "id": "DIRxRIi9gm5U"
      },
      "source": [
        "**Useful notes about the correlation matrix:**\r\n",
        "\r\n",
        "*   High correlation between source and the publisher which is because of their intrinsic relation.\r\n",
        "*   A relatively high correlation between userid and displayid.\r\n",
        "\r\n"
      ]
    },
    {
      "cell_type": "markdown",
      "metadata": {
        "id": "yr21rfOHbRQl"
      },
      "source": [
        "===================== Hamidreza (start) ================="
      ]
    },
    {
      "cell_type": "markdown",
      "metadata": {
        "id": "S2gnu_K1d2NG"
      },
      "source": [
        "### **1-4 Some useful plots of the data**"
      ]
    },
    {
      "cell_type": "code",
      "metadata": {
        "colab": {
          "base_uri": "https://localhost:8080/",
          "height": 290
        },
        "id": "f8sBUsUadVfv",
        "outputId": "3aeb7806-95b1-4269-c7ce-b7f6926fe703"
      },
      "source": [
        "# Ratio of clicked rows over all data\r\n",
        "import seaborn as sns\r\n",
        "sns.countplot(x='clicked',data=train_data, palette='hls')\r\n",
        "plt.show();"
      ],
      "execution_count": null,
      "outputs": [
        {
          "output_type": "display_data",
          "data": {
            "image/png": "[encoded data removed]",
            "text/plain": [
              "<Figure size 432x288 with 1 Axes>"
            ]
          },
          "metadata": {
            "tags": [],
            "needs_background": "light"
          }
        }
      ]
    },
    {
      "cell_type": "code",
      "metadata": {
        "colab": {
          "base_uri": "https://localhost:8080/"
        },
        "id": "8C_CwkICdejN",
        "outputId": "6d3f1022-88ca-4439-8fb1-be392c6a5e12"
      },
      "source": [
        "train_data['clicked'].value_counts()/len(train_data)"
      ],
      "execution_count": null,
      "outputs": [
        {
          "output_type": "execute_result",
          "data": {
            "text/plain": [
              "0    0.776516\n",
              "1    0.223484\n",
              "Name: clicked, dtype: float64"
            ]
          },
          "metadata": {
            "tags": []
          },
          "execution_count": 7
        }
      ]
    },
    {
      "cell_type": "markdown",
      "metadata": {
        "id": "TC0qvKndeJsl"
      },
      "source": [
        "**We can see the imbalanceness in data that should be taken care of.**"
      ]
    },
    {
      "cell_type": "code",
      "metadata": {
        "colab": {
          "base_uri": "https://localhost:8080/",
          "height": 407
        },
        "id": "PacQeKdjSNED",
        "outputId": "2adcfe7a-dda0-4e38-f4b2-c258105674b4"
      },
      "source": [
        "# click count distribution over hours of day\r\n",
        "hourly = train_data.groupby('hourOfDay').agg({'clicked':'sum'})\r\n",
        "hourly.plot.bar(figsize=(12,6))\r\n",
        "plt.ylabel('Number of clicks')\r\n",
        "plt.title('Number of clicks by hour');"
      ],
      "execution_count": null,
      "outputs": [
        {
          "output_type": "display_data",
          "data": {
            "image/png": "[encoded data removed]",
            "text/plain": [
              "<Figure size 864x432 with 1 Axes>"
            ]
          },
          "metadata": {
            "tags": [],
            "needs_background": "light"
          }
        }
      ]
    },
    {
      "cell_type": "markdown",
      "metadata": {
        "id": "Rx0Qa97zfP0I"
      },
      "source": [
        "**As we can see here, 7:00 A.M. has the most number of clicks compared to other hours (kind of wierd hour!). Anyway, this feature seems helpful and should not be droped in the models we are going the fit on the data**. "
      ]
    },
    {
      "cell_type": "code",
      "metadata": {
        "colab": {
          "base_uri": "https://localhost:8080/",
          "height": 404
        },
        "id": "rGr8fcH7WtJL",
        "outputId": "1e0a9bd1-50aa-4466-e761-d2e38dc25ed4"
      },
      "source": [
        "# click distribution over different advertisers.\r\n",
        "train_data.groupby('advertiserId').agg({'clicked':'sum'}).plot(figsize=(12,6))\r\n",
        "plt.ylabel('Number of clicks')\r\n",
        "plt.title('Number of clicks by advertiser');"
      ],
      "execution_count": null,
      "outputs": [
        {
          "output_type": "display_data",
          "data": {
            "image/png": "[encoded data removed]",
            "text/plain": [
              "<Figure size 864x432 with 1 Axes>"
            ]
          },
          "metadata": {
            "tags": [],
            "needs_background": "light"
          }
        }
      ]
    },
    {
      "cell_type": "markdown",
      "metadata": {
        "id": "eTRJx-LWgQKV"
      },
      "source": [
        "**Some adversiters obviously have more click rate than others. Another important feature!**"
      ]
    },
    {
      "cell_type": "code",
      "metadata": {
        "colab": {
          "base_uri": "https://localhost:8080/",
          "height": 404
        },
        "id": "dmI254MVcuVy",
        "outputId": "aafd77b2-c7e5-4716-cfc7-eaa8573013e7"
      },
      "source": [
        "# click distribution over different campaigns.\r\n",
        "train_data.groupby('campaignId').agg({'clicked':'sum'}).plot(figsize=(12,6))\r\n",
        "plt.ylabel('Number of clicks')\r\n",
        "plt.title('Number of clicks by campaignId');"
      ],
      "execution_count": null,
      "outputs": [
        {
          "output_type": "display_data",
          "data": {
            "image/png": "[encoded data removed]",
            "text/plain": [
              "<Figure size 864x432 with 1 Axes>"
            ]
          },
          "metadata": {
            "tags": [],
            "needs_background": "light"
          }
        }
      ]
    },
    {
      "cell_type": "markdown",
      "metadata": {
        "id": "ixuOZNd-ikPm"
      },
      "source": [
        "**Again, the relation between campaign and click rate can be observed**"
      ]
    },
    {
      "cell_type": "code",
      "metadata": {
        "colab": {
          "base_uri": "https://localhost:8080/",
          "height": 404
        },
        "id": "PtMzrzUncQ5t",
        "outputId": "2a22f2f2-0ca7-43e5-f47f-1b3184c65101"
      },
      "source": [
        "# Click counts per day of week.\r\n",
        "train_data.groupby('dayOfWeek').agg({'clicked':'sum'}).plot(figsize=(12,6))\r\n",
        "plt.ylabel('Number of clicks')\r\n",
        "plt.title('Number of clicks by day');"
      ],
      "execution_count": null,
      "outputs": [
        {
          "output_type": "display_data",
          "data": {
            "image/png": "[encoded data removed]",
            "text/plain": [
              "<Figure size 864x432 with 1 Axes>"
            ]
          },
          "metadata": {
            "tags": [],
            "needs_background": "light"
          }
        }
      ]
    },
    {
      "cell_type": "markdown",
      "metadata": {
        "id": "tQftPdnTjFpo"
      },
      "source": [
        "**Notable difference between different days. Should be considered.**"
      ]
    },
    {
      "cell_type": "code",
      "metadata": {
        "colab": {
          "base_uri": "https://localhost:8080/",
          "height": 295
        },
        "id": "yJoSdMuJcbLT",
        "outputId": "e13dd3e1-1638-4c2e-d56e-6974feb26e45"
      },
      "source": [
        "train_data.groupby('dayOfWeek').agg({'clicked':'sum'})"
      ],
      "execution_count": null,
      "outputs": [
        {
          "output_type": "execute_result",
          "data": {
            "text/html": [
              "<div>\n",
              "<style scoped>\n",
              "    .dataframe tbody tr th:only-of-type {\n",
              "        vertical-align: middle;\n",
              "    }\n",
              "\n",
              "    .dataframe tbody tr th {\n",
              "        vertical-align: top;\n",
              "    }\n",
              "\n",
              "    .dataframe thead th {\n",
              "        text-align: right;\n",
              "    }\n",
              "</style>\n",
              "<table border=\"1\" class=\"dataframe\">\n",
              "  <thead>\n",
              "    <tr style=\"text-align: right;\">\n",
              "      <th></th>\n",
              "      <th>clicked</th>\n",
              "    </tr>\n",
              "    <tr>\n",
              "      <th>dayOfWeek</th>\n",
              "      <th></th>\n",
              "    </tr>\n",
              "  </thead>\n",
              "  <tbody>\n",
              "    <tr>\n",
              "      <th>0</th>\n",
              "      <td>122478</td>\n",
              "    </tr>\n",
              "    <tr>\n",
              "      <th>1</th>\n",
              "      <td>130088</td>\n",
              "    </tr>\n",
              "    <tr>\n",
              "      <th>2</th>\n",
              "      <td>129133</td>\n",
              "    </tr>\n",
              "    <tr>\n",
              "      <th>3</th>\n",
              "      <td>128053</td>\n",
              "    </tr>\n",
              "    <tr>\n",
              "      <th>4</th>\n",
              "      <td>131543</td>\n",
              "    </tr>\n",
              "    <tr>\n",
              "      <th>5</th>\n",
              "      <td>110157</td>\n",
              "    </tr>\n",
              "    <tr>\n",
              "      <th>6</th>\n",
              "      <td>90729</td>\n",
              "    </tr>\n",
              "  </tbody>\n",
              "</table>\n",
              "</div>"
            ],
            "text/plain": [
              "           clicked\n",
              "dayOfWeek         \n",
              "0           122478\n",
              "1           130088\n",
              "2           129133\n",
              "3           128053\n",
              "4           131543\n",
              "5           110157\n",
              "6            90729"
            ]
          },
          "metadata": {
            "tags": []
          },
          "execution_count": 23
        }
      ]
    },
    {
      "cell_type": "code",
      "metadata": {
        "colab": {
          "base_uri": "https://localhost:8080/",
          "height": 400
        },
        "id": "8ESW_PrKELFA",
        "outputId": "dc5ee8d5-ad7d-4386-eb50-42f4097244ab"
      },
      "source": [
        "# click count distribution over different devices\r\n",
        "hourly = train_data.groupby('device').agg({'clicked':'sum'})\r\n",
        "hourly.plot.bar(figsize=(12,6))\r\n",
        "plt.ylabel('Number of clicks')\r\n",
        "plt.title('Number of clicks by device');"
      ],
      "execution_count": null,
      "outputs": [
        {
          "output_type": "display_data",
          "data": {
            "image/png": "[encoded data removed]",
            "text/plain": [
              "<Figure size 864x432 with 1 Axes>"
            ]
          },
          "metadata": {
            "tags": [],
            "needs_background": "light"
          }
        }
      ]
    },
    {
      "cell_type": "code",
      "metadata": {
        "colab": {
          "base_uri": "https://localhost:8080/",
          "height": 400
        },
        "id": "r9SYA0vIEQ89",
        "outputId": "5a3b4dda-ad38-44e2-a042-98fbf8966735"
      },
      "source": [
        "# click count distribution over different OSs\r\n",
        "hourly = train_data.groupby('os').agg({'clicked':'sum'})\r\n",
        "hourly.plot.bar(figsize=(12,6))\r\n",
        "plt.ylabel('Number of clicks')\r\n",
        "plt.title('Number of clicks by OSs');"
      ],
      "execution_count": null,
      "outputs": [
        {
          "output_type": "display_data",
          "data": {
            "image/png": "[encoded data removed]",
            "text/plain": [
              "<Figure size 864x432 with 1 Axes>"
            ]
          },
          "metadata": {
            "tags": [],
            "needs_background": "light"
          }
        }
      ]
    },
    {
      "cell_type": "code",
      "metadata": {
        "colab": {
          "base_uri": "https://localhost:8080/",
          "height": 413
        },
        "id": "0vl07dFXEbZW",
        "outputId": "2592a8a5-d863-4268-a1fa-21c7d4f09df9"
      },
      "source": [
        "# click count distribution over different browsers\r\n",
        "hourly = train_data.groupby('browser').agg({'clicked':'sum'})\r\n",
        "hourly.plot.bar(figsize=(12,6))\r\n",
        "plt.ylabel('Number of clicks')\r\n",
        "plt.title('Number of clicks by browser');"
      ],
      "execution_count": null,
      "outputs": [
        {
          "output_type": "display_data",
          "data": {
            "image/png": "[encoded data removed]",
            "text/plain": [
              "<Figure size 864x432 with 1 Axes>"
            ]
          },
          "metadata": {
            "tags": [],
            "needs_background": "light"
          }
        }
      ]
    },
    {
      "cell_type": "code",
      "metadata": {
        "colab": {
          "base_uri": "https://localhost:8080/",
          "height": 407
        },
        "id": "Op4wKGI2c9sk",
        "outputId": "99141c68-bb2a-4a41-89f7-ada7dc24912b"
      },
      "source": [
        "# Another useful plot about observing the click ratio for every day\r\n",
        "train_data.groupby(['hourOfDay', 'clicked']).size().unstack().plot(kind='bar', title=\"Hour of Day\", figsize=(12,6))\r\n",
        "plt.ylabel('count')\r\n",
        "plt.title('Hourly clicks comparison');"
      ],
      "execution_count": null,
      "outputs": [
        {
          "output_type": "display_data",
          "data": {
            "image/png": "[encoded data removed]",
            "text/plain": [
              "<Figure size 864x432 with 1 Axes>"
            ]
          },
          "metadata": {
            "tags": [],
            "needs_background": "light"
          }
        }
      ]
    },
    {
      "cell_type": "markdown",
      "metadata": {
        "id": "UqPLKi71jxB1"
      },
      "source": [
        "**Again, 7 A.M. has the most viewed and clicked ads between all days of week.**"
      ]
    },
    {
      "cell_type": "markdown",
      "metadata": {
        "id": "9UXUYj3akBB_"
      },
      "source": [
        "### **1-5 Feature Selection**"
      ]
    },
    {
      "cell_type": "markdown",
      "metadata": {
        "id": "-IiRLf7tp_gh"
      },
      "source": [
        "**For the first part (performing ordinary supervised learning methods on the dataset), since we don't look for individual relationship between feature values, we can drop columns that cannot really enhance the learning process. These features are:**\r\n",
        "\r\n",
        "\r\n",
        "1.   userId: cannot be helpful for the first part (but useful for Factorization Machines)\r\n",
        "2.   Timestamp: we have the day and hour, so this columns can be ommited too. (Furthermore, the structure of the timestamp is somehow ambiguous!)\r\n",
        "\r\n",
        "\r\n"
      ]
    },
    {
      "cell_type": "markdown",
      "metadata": {
        "id": "QmHwN__mscA5"
      },
      "source": [
        "### **1-6 Fitting Random Forest, Linear Regression, XGBoost, and SVM on the data**"
      ]
    },
    {
      "cell_type": "markdown",
      "metadata": {
        "id": "Ip3Gce92ryes"
      },
      "source": [
        "**Since We have a seperate test data, we split the train data into 2 categories by train_test_split of sklearn.model_selection (the generated test from this method respresents the validation set). We use the usual one third of the data for validating.**"
      ]
    },
    {
      "cell_type": "code",
      "metadata": {
        "id": "Jzu0nnHtWFYi"
      },
      "source": [
        "from sklearn.ensemble import RandomForestClassifier\r\n",
        "from sklearn.model_selection import train_test_split\r\n",
        "from sklearn.metrics import accuracy_score, roc_auc_score\r\n",
        "from sklearn.metrics import f1_score, recall_score, auc, precision_score, log_loss\r\n",
        "tmp = train_data.copy()\r\n",
        "tmp_y = tmp['clicked']\r\n",
        "tmp_X = tmp.drop(columns=['timestamp', 'userId'])\r\n",
        "X_train, X_test, y_train, y_test = train_test_split(tmp_X, tmp_y, test_size = 0.33, stratify = tmp_y, random_state = 42)\r\n"
      ],
      "execution_count": null,
      "outputs": []
    },
    {
      "cell_type": "code",
      "metadata": {
        "id": "ziwqJoD5347Y"
      },
      "source": [
        "test_target = X_test['clicked']\r\n",
        "X_train = X_train.drop(columns=['clicked'])\r\n",
        "X_test = X_test.drop(columns=['clicked'])"
      ],
      "execution_count": null,
      "outputs": []
    },
    {
      "cell_type": "markdown",
      "metadata": {
        "id": "5DkBOapy6fPV"
      },
      "source": [
        "#### **1-6-1 Random Forest**\r\n",
        "\r\n",
        "We tune number of estimators, but at the end we can see that the performance is not satisfying in any setting. (We use 10 number of estimators from now on)"
      ]
    },
    {
      "cell_type": "code",
      "metadata": {
        "id": "7auSp2zfXUxf",
        "colab": {
          "base_uri": "https://localhost:8080/"
        },
        "outputId": "dd4beb94-1e34-4645-b7f2-2ca3099c9804"
      },
      "source": [
        "n_stimators = [10, 15, 20]\r\n",
        "accuracy = []\r\n",
        "precision = []\r\n",
        "recall = []\r\n",
        "f1 = []\r\n",
        "auc = []\r\n",
        "logLoss = []\r\n",
        "for i in n_stimators:\r\n",
        "  rf = RandomForestClassifier(n_estimators = i, random_state = 42)\r\n",
        "  rf.fit(X_train, y_train)\r\n",
        "  y_pred_rf = rf.predict(X_test)\r\n",
        "\r\n",
        "  accuracy_rf = accuracy_score(y_test, y_pred_rf)\r\n",
        "  accuracy.append(accuracy_rf)\r\n",
        "\r\n",
        "  precision_score_rf  = precision_score(y_test, y_pred_rf)\r\n",
        "  precision.append(precision_score_rf)\r\n",
        "\r\n",
        "  recall_rf = recall_score(y_test, y_pred_rf)\r\n",
        "  recall.append(recall_rf)\r\n",
        "\r\n",
        "  f1_score_rf = f1_score(y_test, y_pred_rf)\r\n",
        "  f1.append(f1_score_rf)\r\n",
        "\r\n",
        "  auc_score_rf = roc_auc_score(y_test, y_pred_rf)\r\n",
        "  auc.append(auc_score_rf)\r\n",
        "  log_loss_rf = log_loss(y_test, y_pred_rf)\r\n",
        "  logLoss.append(log_loss_rf)"
      ],
      "execution_count": null,
      "outputs": [
        {
          "output_type": "error",
          "ename": "NameError",
          "evalue": "ignored",
          "traceback": [
            "\u001b[0;31m---------------------------------------------------------------------------\u001b[0m",
            "\u001b[0;31mNameError\u001b[0m                                 Traceback (most recent call last)",
            "\u001b[0;32m<ipython-input-5-71b0f5361f88>\u001b[0m in \u001b[0;36m<module>\u001b[0;34m()\u001b[0m\n\u001b[1;32m      8\u001b[0m \u001b[0;32mfor\u001b[0m \u001b[0mi\u001b[0m \u001b[0;32min\u001b[0m \u001b[0mn_stimators\u001b[0m\u001b[0;34m:\u001b[0m\u001b[0;34m\u001b[0m\u001b[0;34m\u001b[0m\u001b[0m\n\u001b[1;32m      9\u001b[0m   \u001b[0mrf\u001b[0m \u001b[0;34m=\u001b[0m \u001b[0mRandomForestClassifier\u001b[0m\u001b[0;34m(\u001b[0m\u001b[0mn_estimators\u001b[0m \u001b[0;34m=\u001b[0m \u001b[0mi\u001b[0m\u001b[0;34m,\u001b[0m \u001b[0mrandom_state\u001b[0m \u001b[0;34m=\u001b[0m \u001b[0;36m42\u001b[0m\u001b[0;34m)\u001b[0m\u001b[0;34m\u001b[0m\u001b[0;34m\u001b[0m\u001b[0m\n\u001b[0;32m---> 10\u001b[0;31m   \u001b[0mrf\u001b[0m\u001b[0;34m.\u001b[0m\u001b[0mfit\u001b[0m\u001b[0;34m(\u001b[0m\u001b[0mX_train\u001b[0m\u001b[0;34m,\u001b[0m \u001b[0my_train\u001b[0m\u001b[0;34m)\u001b[0m\u001b[0;34m\u001b[0m\u001b[0;34m\u001b[0m\u001b[0m\n\u001b[0m\u001b[1;32m     11\u001b[0m   \u001b[0my_pred_rf\u001b[0m \u001b[0;34m=\u001b[0m \u001b[0mrf\u001b[0m\u001b[0;34m.\u001b[0m\u001b[0mpredict\u001b[0m\u001b[0;34m(\u001b[0m\u001b[0mX_test\u001b[0m\u001b[0;34m)\u001b[0m\u001b[0;34m\u001b[0m\u001b[0;34m\u001b[0m\u001b[0m\n\u001b[1;32m     12\u001b[0m \u001b[0;34m\u001b[0m\u001b[0m\n",
            "\u001b[0;31mNameError\u001b[0m: name 'X_train' is not defined"
          ]
        }
      ]
    },
    {
      "cell_type": "code",
      "metadata": {
        "colab": {
          "base_uri": "https://localhost:8080/"
        },
        "id": "bfijFXbh0dux",
        "outputId": "bf92b0d2-ef8d-41f1-c22d-85f180b33302"
      },
      "source": [
        "print(f1)"
      ],
      "execution_count": null,
      "outputs": [
        {
          "output_type": "stream",
          "text": [
            "[]\n"
          ],
          "name": "stdout"
        }
      ]
    },
    {
      "cell_type": "code",
      "metadata": {
        "colab": {
          "base_uri": "https://localhost:8080/"
        },
        "id": "P3jq8iKC8otA",
        "outputId": "b3609a05-1428-4034-d182-e23213e1db2f"
      },
      "source": [
        "print(auc)"
      ],
      "execution_count": null,
      "outputs": [
        {
          "output_type": "stream",
          "text": [
            "[]\n"
          ],
          "name": "stdout"
        }
      ]
    },
    {
      "cell_type": "code",
      "metadata": {
        "colab": {
          "base_uri": "https://localhost:8080/"
        },
        "id": "bha85YG1-GLA",
        "outputId": "877ed4c5-01ae-4477-b680-77f0eba69ca8"
      },
      "source": [
        "print(logLoss)"
      ],
      "execution_count": null,
      "outputs": [
        {
          "output_type": "stream",
          "text": [
            "[]\n"
          ],
          "name": "stdout"
        }
      ]
    },
    {
      "cell_type": "markdown",
      "metadata": {
        "id": "AewcppesYpZr"
      },
      "source": [
        "**NOT GOOD results:( seems we should should deal with imbalanced data first**"
      ]
    },
    {
      "cell_type": "markdown",
      "metadata": {
        "id": "gX4kZOOKTU6H"
      },
      "source": [
        "#### **1-6-2 Undersampling for dealing with imbalanced data**"
      ]
    },
    {
      "cell_type": "code",
      "metadata": {
        "colab": {
          "base_uri": "https://localhost:8080/"
        },
        "id": "CfzLvhCuTcjg",
        "outputId": "b67b91e1-4517-471e-c213-ba857893cfa2"
      },
      "source": [
        "from sklearn.utils import resample\r\n",
        "# us : undersampled\r\n",
        "us_X = pd.concat([X_train, y_train], axis=1)\r\n",
        "clicked = us_X[us_X.clicked == 1]\r\n",
        "not_clicked = us_X[us_X.clicked == 0]\r\n",
        "\r\n",
        "# downsample majority(not clicked)\r\n",
        "not_clicked_downsampled = resample(not_clicked,\r\n",
        "                                replace = False, # sample without replacement\r\n",
        "                                n_samples = len(clicked), # match minority n\r\n",
        "                                random_state = 23)\r\n",
        "downsampled = pd.concat([not_clicked_downsampled, clicked])\r\n",
        "downsampled.clicked.value_counts()"
      ],
      "execution_count": null,
      "outputs": [
        {
          "output_type": "execute_result",
          "data": {
            "text/plain": [
              "1    564261\n",
              "0    564261\n",
              "Name: clicked, dtype: int64"
            ]
          },
          "metadata": {
            "tags": []
          },
          "execution_count": 7
        }
      ]
    },
    {
      "cell_type": "code",
      "metadata": {
        "id": "GEAAuZHNUzSz"
      },
      "source": [
        "ds_y_train = downsampled['clicked']\r\n",
        "ds_X_train = downsampled.drop(columns=['clicked'])\r\n"
      ],
      "execution_count": null,
      "outputs": []
    },
    {
      "cell_type": "code",
      "metadata": {
        "id": "OUaZ5SYlVYIm"
      },
      "source": [
        "rf = RandomForestClassifier(n_estimators = 10, random_state = 42)\r\n",
        "rf.fit(ds_X_train, ds_y_train)\r\n",
        "y_pred_rf = rf.predict(X_test)"
      ],
      "execution_count": null,
      "outputs": []
    },
    {
      "cell_type": "code",
      "metadata": {
        "colab": {
          "base_uri": "https://localhost:8080/"
        },
        "id": "JWneIbI2CGS_",
        "outputId": "1c4eec5f-2b35-47b9-e09d-c3d59d6c5e6b"
      },
      "source": [
        "features = pd.Series(rf.feature_importances_,\r\n",
        "                          index=ds_X_train.columns)\r\n",
        "features = features.sort_values(ascending = False)\r\n",
        "features"
      ],
      "execution_count": null,
      "outputs": [
        {
          "output_type": "execute_result",
          "data": {
            "text/plain": [
              "displayId       0.294181\n",
              "docId           0.206318\n",
              "hourOfDay       0.096117\n",
              "creativeId      0.092357\n",
              "widgetId        0.054455\n",
              "browser         0.047605\n",
              "dayOfWeek       0.040953\n",
              "source          0.040331\n",
              "campaignId      0.039635\n",
              "publisher       0.039346\n",
              "advertiserId    0.036961\n",
              "os              0.007141\n",
              "device          0.004599\n",
              "dtype: float64"
            ]
          },
          "metadata": {
            "tags": []
          },
          "execution_count": 18
        }
      ]
    },
    {
      "cell_type": "markdown",
      "metadata": {
        "id": "cVaFS3ocEpyX"
      },
      "source": [
        "**In Random forest model, we can see that the four most important features affecting the result of the model are displayId, docId, hourOfDay, and creativeId**"
      ]
    },
    {
      "cell_type": "code",
      "metadata": {
        "colab": {
          "base_uri": "https://localhost:8080/",
          "height": 231
        },
        "id": "JgIWKcd2Vt8M",
        "outputId": "a2fca664-b507-4854-a55b-a162019b81e0"
      },
      "source": [
        "from sklearn.metrics import f1_score, recall_score, auc\r\n",
        "acc_rf = accuracy_score(y_test, y_pred_rf)\r\n",
        "print('accuracy: '+ str(acc_rf))\r\n",
        "print('f1_score: '+ str(f1_score(y_test, y_pred_rf)))\r\n",
        "print('cross entropy loss(Log loss): '+ str(log_loss(y_test, y_pred_rf)))\r\n",
        "print('roc_auc_score: '+ str(roc_auc_score(y_test, y_pred_rf)))\r\n"
      ],
      "execution_count": null,
      "outputs": [
        {
          "output_type": "error",
          "ename": "NameError",
          "evalue": "ignored",
          "traceback": [
            "\u001b[0;31m---------------------------------------------------------------------------\u001b[0m",
            "\u001b[0;31mNameError\u001b[0m                                 Traceback (most recent call last)",
            "\u001b[0;32m<ipython-input-9-f601191ae630>\u001b[0m in \u001b[0;36m<module>\u001b[0;34m()\u001b[0m\n\u001b[1;32m      1\u001b[0m \u001b[0;32mfrom\u001b[0m \u001b[0msklearn\u001b[0m\u001b[0;34m.\u001b[0m\u001b[0mmetrics\u001b[0m \u001b[0;32mimport\u001b[0m \u001b[0mf1_score\u001b[0m\u001b[0;34m,\u001b[0m \u001b[0mrecall_score\u001b[0m\u001b[0;34m,\u001b[0m \u001b[0mauc\u001b[0m\u001b[0;34m\u001b[0m\u001b[0;34m\u001b[0m\u001b[0m\n\u001b[0;32m----> 2\u001b[0;31m \u001b[0macc_rf\u001b[0m \u001b[0;34m=\u001b[0m \u001b[0maccuracy_score\u001b[0m\u001b[0;34m(\u001b[0m\u001b[0my_test\u001b[0m\u001b[0;34m,\u001b[0m \u001b[0my_pred_rf\u001b[0m\u001b[0;34m)\u001b[0m\u001b[0;34m\u001b[0m\u001b[0;34m\u001b[0m\u001b[0m\n\u001b[0m\u001b[1;32m      3\u001b[0m \u001b[0mprint\u001b[0m\u001b[0;34m(\u001b[0m\u001b[0;34m'accuracy: '\u001b[0m\u001b[0;34m+\u001b[0m \u001b[0mstr\u001b[0m\u001b[0;34m(\u001b[0m\u001b[0macc_rf\u001b[0m\u001b[0;34m)\u001b[0m\u001b[0;34m)\u001b[0m\u001b[0;34m\u001b[0m\u001b[0;34m\u001b[0m\u001b[0m\n\u001b[1;32m      4\u001b[0m \u001b[0mprint\u001b[0m\u001b[0;34m(\u001b[0m\u001b[0;34m'f1_score: '\u001b[0m\u001b[0;34m+\u001b[0m \u001b[0mstr\u001b[0m\u001b[0;34m(\u001b[0m\u001b[0mf1_score\u001b[0m\u001b[0;34m(\u001b[0m\u001b[0my_test\u001b[0m\u001b[0;34m,\u001b[0m \u001b[0my_pred_rf\u001b[0m\u001b[0;34m)\u001b[0m\u001b[0;34m)\u001b[0m\u001b[0;34m)\u001b[0m\u001b[0;34m\u001b[0m\u001b[0;34m\u001b[0m\u001b[0m\n\u001b[1;32m      5\u001b[0m \u001b[0mprint\u001b[0m\u001b[0;34m(\u001b[0m\u001b[0;34m'cross entropy loss(Log loss): '\u001b[0m\u001b[0;34m+\u001b[0m \u001b[0mstr\u001b[0m\u001b[0;34m(\u001b[0m\u001b[0mlog_loss\u001b[0m\u001b[0;34m(\u001b[0m\u001b[0my_test\u001b[0m\u001b[0;34m,\u001b[0m \u001b[0my_pred_rf\u001b[0m\u001b[0;34m)\u001b[0m\u001b[0;34m)\u001b[0m\u001b[0;34m)\u001b[0m\u001b[0;34m\u001b[0m\u001b[0;34m\u001b[0m\u001b[0m\n",
            "\u001b[0;31mNameError\u001b[0m: name 'y_pred_rf' is not defined"
          ]
        }
      ]
    },
    {
      "cell_type": "markdown",
      "metadata": {
        "id": "xyNqMCXI9_Zc"
      },
      "source": [
        "**As we can see here, the recall score improved significantly (approx 31 percent), and f1_score and auc also improved by approximately 10 and 3 percent.**"
      ]
    },
    {
      "cell_type": "markdown",
      "metadata": {
        "id": "5jLtvpnD-vKu"
      },
      "source": [
        "#### **1-6-3 Logistic Regression**"
      ]
    },
    {
      "cell_type": "code",
      "metadata": {
        "id": "MbFOLf4bXtTG"
      },
      "source": [
        "from sklearn.linear_model import LogisticRegression\r\n",
        "logreg = LogisticRegression()\r\n",
        "logreg.fit(ds_X_train, ds_y_train)\r\n"
      ],
      "execution_count": null,
      "outputs": []
    },
    {
      "cell_type": "code",
      "metadata": {
        "id": "zC01FzwUYCvm"
      },
      "source": [
        "y_pred_lr = logreg.predict(X_test)\r\n",
        "print('Accuracy of logistic regression classifier on test set: {:.2f}'.format(logreg.score(X_test, y_test)))\r\n",
        "print('F1_score of logistic regression classifier on test set: {:.2f}'.format(f1_score(y_test, y_pred_lr)))\r\n",
        "print('recall score of logistic regression classifier on test set: {:.2f}'.format(recall_score(y_test, y_pred_lr)))\r\n",
        "print('roc_auc_score of logistic regression classifier on test set: {:.2f}'.format(roc_auc_score(y_test, y_pred_lr)))\r\n",
        "print('cross entropy loss of logistic regression classifier on test set: {:.2f}'.format(log_loss(y_test, y_pred_lr)))"
      ],
      "execution_count": null,
      "outputs": []
    },
    {
      "cell_type": "markdown",
      "metadata": {
        "id": "S8bh1g-U-5la"
      },
      "source": [
        "We got better results in terms of F1 and auc score from random forest than Logistic regression."
      ]
    },
    {
      "cell_type": "markdown",
      "metadata": {
        "id": "w4RcSbxI_Bb8"
      },
      "source": [
        "#### **1-6-4 XGBoost**"
      ]
    },
    {
      "cell_type": "code",
      "metadata": {
        "id": "-lFlNJRkZSkQ"
      },
      "source": [
        "from sklearn.model_selection import cross_val_score\r\n",
        "from sklearn.model_selection import RepeatedStratifiedKFold\r\n",
        "import xgboost as xgb"
      ],
      "execution_count": null,
      "outputs": []
    },
    {
      "cell_type": "code",
      "metadata": {
        "id": "nzHuPO-QaRgr"
      },
      "source": [
        "xg_cl = xgb.XGBClassifier(objective='binary:logistic', n_estimators=10, seed=23)\r\n",
        "xg_cl.fit(ds_X_train, ds_y_train)\r\n",
        "preds = xg_cl.predict(X_test)"
      ],
      "execution_count": null,
      "outputs": []
    },
    {
      "cell_type": "code",
      "metadata": {
        "id": "B_R2p2VMaZtg"
      },
      "source": [
        "accuracy = float(np.sum(preds == y_test)) / y_test.shape[0]\r\n",
        "print(\"accuracy: %f\" % (accuracy))\r\n",
        "print('f1_score: '+ str(f1_score(y_test, preds)))\r\n",
        "print('recall: '+ str(recall_score(y_test, preds)))\r\n",
        "print('roc_auc_score: '+ str(roc_auc_score(y_test, preds)))\r\n",
        "print('cross entropy loss: '+ str(log_loss(y_test, preds)))"
      ],
      "execution_count": null,
      "outputs": []
    },
    {
      "cell_type": "markdown",
      "metadata": {
        "id": "Hooc-3N5XKHo"
      },
      "source": [
        "#### **1-6-5 lets try upsampling**"
      ]
    },
    {
      "cell_type": "code",
      "metadata": {
        "id": "Em6EYDGwXSsQ"
      },
      "source": [
        "clicked_upsampled = resample(clicked,\r\n",
        "                          replace=True, # sample with replacement\r\n",
        "                          n_samples=len(not_clicked), # match number in majority class\r\n",
        "                          random_state=23) # reproducible results\r\n",
        "\r\n",
        "# combine majority and upsampled minority\r\n",
        "upsampled = pd.concat([not_clicked, clicked_upsampled])\r\n",
        "upsampled.clicked.value_counts()"
      ],
      "execution_count": null,
      "outputs": []
    },
    {
      "cell_type": "code",
      "metadata": {
        "id": "0NSg4A_6bAj-"
      },
      "source": [
        "us_y_train = upsampled['clicked']\r\n",
        "us_X_train = upsampled.drop(columns=['clicked'])\r\n",
        "len(us_X_train)"
      ],
      "execution_count": null,
      "outputs": []
    },
    {
      "cell_type": "code",
      "metadata": {
        "id": "dvbiXgqDcfe1"
      },
      "source": [
        "rf = RandomForestClassifier(n_estimators = 10, random_state = 42)\r\n",
        "rf.fit(us_X_train, us_y_train)\r\n",
        "y_pred_rf = rf.predict(X_test)"
      ],
      "execution_count": null,
      "outputs": []
    },
    {
      "cell_type": "code",
      "metadata": {
        "id": "25cppuEYfRmk"
      },
      "source": [
        "print('accuracy: '+ str(accuracy_score(y_test, y_pred_rf)))\r\n",
        "print('f1_score: '+ str(f1_score(y_test, y_pred_rf)))\r\n",
        "print('cross entropy loss(Log loss): '+ str(log_loss(y_test, y_pred_rf)))\r\n",
        "print('roc_auc_score: '+ str(roc_auc_score(y_test, y_pred_rf)))\r\n",
        "print('cross entropy: '+ str(log_loss(y_test, y_pred_rf)))\r\n"
      ],
      "execution_count": null,
      "outputs": []
    },
    {
      "cell_type": "code",
      "metadata": {
        "id": "5xRimpurfdxK"
      },
      "source": [
        "logreg = LogisticRegression()\r\n",
        "logreg.fit(us_X_train, us_y_train)\r\n",
        "y_pred_lr = logreg.predict(X_test)\r\n",
        "print('Accuracy of logistic regression classifier on test set: {:.2f}'.format(logreg.score(X_test, y_test)))\r\n",
        "print('F1_score of logistic regression classifier on test set: {:.2f}'.format(f1_score(y_test, y_pred_lr)))\r\n",
        "print('recall score of logistic regression classifier on test set: {:.2f}'.format(recall_score(y_test, y_pred_lr)))\r\n",
        "print('cross entropy score of logistic regression classifier on test set: {:.2f}'.format(log_loss(y_test, y_pred_lr)))\r\n",
        "print('auc score of logistic regression classifier on test set: {:.2f}'.format(roc_auc_score(y_test, y_pred_lr)))"
      ],
      "execution_count": null,
      "outputs": []
    },
    {
      "cell_type": "code",
      "metadata": {
        "id": "gCS9G18zhhNc"
      },
      "source": [
        "xg_cl = xgb.XGBClassifier(objective='binary:logistic', n_estimators=10, seed=23)\r\n",
        "xg_cl.fit(us_X_train, us_y_train)\r\n",
        "preds = xg_cl.predict(X_test)\r\n",
        "accuracy = float(np.sum(preds == y_test)) / y_test.shape[0]\r\n",
        "print(\"accuracy: %f\" % (accuracy))\r\n",
        "print('f1_score: '+ str(f1_score(y_test, preds)))\r\n",
        "print('recall: '+ str(recall_score(y_test, preds)))\r\n",
        "print('auc: '+ str(roc_auc_score(y_test, preds)))\r\n",
        "print('cross entropy: '+ str(log_loss(y_test, preds)))"
      ],
      "execution_count": null,
      "outputs": []
    },
    {
      "cell_type": "code",
      "metadata": {
        "id": "BCkUa0C14lfH"
      },
      "source": [
        "X_test['test_target'] = preds\r\n",
        "X_test['clicked'] = y_test"
      ],
      "execution_count": null,
      "outputs": []
    },
    {
      "cell_type": "code",
      "metadata": {
        "id": "A3dn4Nxq5IYL"
      },
      "source": [
        "compare = X_test[['displayId', 'clicked', 'test_target']]\r\n",
        "compare.groupby('displayId').sum()"
      ],
      "execution_count": null,
      "outputs": []
    },
    {
      "cell_type": "markdown",
      "metadata": {
        "id": "RWHb6DgSsRo1"
      },
      "source": [
        "#### **1-6-6 SVM**\r\n",
        "\r\n",
        "Undersampling\r\n",
        "\r\n",
        "It's impossible to run SVM on this much data so we  make our data smaller. Sklearn page even says that svm algorithm is good only for data with a couple of 10000 rows."
      ]
    },
    {
      "cell_type": "code",
      "metadata": {
        "colab": {
          "base_uri": "https://localhost:8080/"
        },
        "id": "79DNKawQuuwS",
        "outputId": "d67262b8-c9e5-49e7-c36e-fe3cf5e21550"
      },
      "source": [
        "from sklearn.ensemble import RandomForestClassifier\r\n",
        "from sklearn.model_selection import train_test_split\r\n",
        "from sklearn.metrics import accuracy_score, roc_auc_score\r\n",
        "from sklearn.metrics import f1_score, recall_score, auc, precision_score, log_loss, classification_report\r\n",
        "tmp = train_data.sample(50000,random_state=42)\r\n",
        "tmp_y = tmp['clicked']\r\n",
        "tmp_X = tmp.drop(columns=['timestamp'])\r\n",
        "X_train, X_test, y_train, y_test = train_test_split(tmp_X, tmp_y, train_size = 20000, stratify = tmp_y, random_state = 42)\r\n",
        "test_target = X_test['clicked']\r\n",
        "X_train = X_train.drop(columns=['clicked'])\r\n",
        "X_test = X_test.drop(columns=['clicked'])\r\n",
        "\r\n",
        "from sklearn.utils import resample\r\n",
        "# us : undersampled\r\n",
        "us_X = pd.concat([X_train, y_train], axis=1)\r\n",
        "clicked = us_X[us_X.clicked == 1]\r\n",
        "not_clicked = us_X[us_X.clicked == 0]\r\n",
        "\r\n",
        "# downsample majority(not clicked)\r\n",
        "not_clicked_downsampled = resample(not_clicked,\r\n",
        "                                replace = False, # sample without replacement\r\n",
        "                                n_samples = len(clicked), # match minority n\r\n",
        "                                random_state = 23)\r\n",
        "downsampled = pd.concat([not_clicked_downsampled, clicked])\r\n",
        "print(downsampled.clicked.value_counts())\r\n",
        "\r\n",
        "ds_y_train = downsampled['clicked']\r\n",
        "ds_X_train = downsampled.drop(columns=['clicked'])"
      ],
      "execution_count": null,
      "outputs": [
        {
          "output_type": "stream",
          "text": [
            "1    4414\n",
            "0    4414\n",
            "Name: clicked, dtype: int64\n"
          ],
          "name": "stdout"
        }
      ]
    },
    {
      "cell_type": "code",
      "metadata": {
        "colab": {
          "base_uri": "https://localhost:8080/"
        },
        "id": "UABG7bBsunS9",
        "outputId": "86390ea0-5213-4075-bebc-1fe776a479cf"
      },
      "source": [
        "from sklearn import svm\r\n",
        "svm_clf = svm.SVC()\r\n",
        "svm_clf.fit(ds_X_train,ds_y_train)"
      ],
      "execution_count": null,
      "outputs": [
        {
          "output_type": "execute_result",
          "data": {
            "text/plain": [
              "SVC(C=1.0, break_ties=False, cache_size=200, class_weight=None, coef0=0.0,\n",
              "    decision_function_shape='ovr', degree=3, gamma='scale', kernel='rbf',\n",
              "    max_iter=-1, probability=False, random_state=None, shrinking=True,\n",
              "    tol=0.001, verbose=False)"
            ]
          },
          "metadata": {
            "tags": []
          },
          "execution_count": 5
        }
      ]
    },
    {
      "cell_type": "code",
      "metadata": {
        "colab": {
          "base_uri": "https://localhost:8080/"
        },
        "id": "kxrBVcxWtwoR",
        "outputId": "9f008112-7548-43e6-d4d3-2444d5de875e"
      },
      "source": [
        "preds = svm_clf.predict(X_test)\r\n",
        "print(\"accuracy: %f\" % (svm_clf.score(X_test,y_test)))\r\n",
        "print('f1_score: '+ str(f1_score(y_test, preds)))\r\n",
        "print('recall: '+ str(recall_score(y_test, preds)))\r\n",
        "print('auc: '+ str(roc_auc_score(y_test, preds)))\r\n",
        "print('cross entropy: '+ str(log_loss(y_test, preds)))\r\n",
        "print(classification_report(y_test, preds))"
      ],
      "execution_count": null,
      "outputs": [
        {
          "output_type": "stream",
          "text": [
            "accuracy: 0.614367\n",
            "f1_score: 0.25240710823909535\n",
            "recall: 0.29501510574018125\n",
            "auc: 0.499902762450929\n",
            "cross entropy: 13.319487431139496\n",
            "              precision    recall  f1-score   support\n",
            "\n",
            "           0       0.78      0.70      0.74     23380\n",
            "           1       0.22      0.30      0.25      6620\n",
            "\n",
            "    accuracy                           0.61     30000\n",
            "   macro avg       0.50      0.50      0.50     30000\n",
            "weighted avg       0.66      0.61      0.63     30000\n",
            "\n"
          ],
          "name": "stdout"
        }
      ]
    },
    {
      "cell_type": "markdown",
      "metadata": {
        "id": "pPUIzyXiBWVG"
      },
      "source": [
        "Upsampling"
      ]
    },
    {
      "cell_type": "code",
      "metadata": {
        "colab": {
          "base_uri": "https://localhost:8080/"
        },
        "id": "Fvo-sLrtBfmz",
        "outputId": "63cb5554-1826-43ba-da93-0853dd5c363a"
      },
      "source": [
        "clicked_upsampled = resample(clicked,\r\n",
        "                          replace=True, # sample with replacement\r\n",
        "                          n_samples=len(not_clicked), # match number in majority class\r\n",
        "                          random_state=23) # reproducible results\r\n",
        "\r\n",
        "# combine majority and upsampled minority\r\n",
        "upsampled = pd.concat([not_clicked, clicked_upsampled])\r\n",
        "upsampled.clicked.value_counts()\r\n",
        "us_y_train = upsampled['clicked']\r\n",
        "us_X_train = upsampled.drop(columns=['clicked'])\r\n",
        "len(us_X_train)"
      ],
      "execution_count": null,
      "outputs": [
        {
          "output_type": "execute_result",
          "data": {
            "text/plain": [
              "31172"
            ]
          },
          "metadata": {
            "tags": []
          },
          "execution_count": 8
        }
      ]
    },
    {
      "cell_type": "code",
      "metadata": {
        "colab": {
          "base_uri": "https://localhost:8080/"
        },
        "id": "pZtDZXHeBu7A",
        "outputId": "85861dc1-5c4c-4d0b-bc98-38d02259d8f8"
      },
      "source": [
        "from sklearn import svm\r\n",
        "us_svm_clf = svm.SVC()\r\n",
        "us_svm_clf.fit(us_X_train,us_y_train)"
      ],
      "execution_count": null,
      "outputs": [
        {
          "output_type": "execute_result",
          "data": {
            "text/plain": [
              "SVC(C=1.0, break_ties=False, cache_size=200, class_weight=None, coef0=0.0,\n",
              "    decision_function_shape='ovr', degree=3, gamma='scale', kernel='rbf',\n",
              "    max_iter=-1, probability=False, random_state=None, shrinking=True,\n",
              "    tol=0.001, verbose=False)"
            ]
          },
          "metadata": {
            "tags": []
          },
          "execution_count": 9
        }
      ]
    },
    {
      "cell_type": "code",
      "metadata": {
        "colab": {
          "base_uri": "https://localhost:8080/"
        },
        "id": "GVMr0n0TB1kN",
        "outputId": "b97c5f01-e593-451f-85cf-e57e33232a02"
      },
      "source": [
        "preds = us_svm_clf.predict(X_test)\r\n",
        "print(\"accuracy: %f\" % (us_svm_clf.score(X_test,y_test)))\r\n",
        "print('f1_score: '+ str(f1_score(y_test, preds)))\r\n",
        "print('recall: '+ str(recall_score(y_test, preds)))\r\n",
        "print('auc: '+ str(roc_auc_score(y_test, preds)))\r\n",
        "print('cross entropy: '+ str(log_loss(y_test, preds)))\r\n",
        "print(classification_report(y_test, preds))"
      ],
      "execution_count": null,
      "outputs": [
        {
          "output_type": "stream",
          "text": [
            "accuracy: 0.551400\n",
            "f1_score: 0.29898947807063236\n",
            "recall: 0.4335347432024169\n",
            "auc: 0.5091540268621152\n",
            "cross entropy: 15.494353840485342\n",
            "              precision    recall  f1-score   support\n",
            "\n",
            "           0       0.78      0.58      0.67     23380\n",
            "           1       0.23      0.43      0.30      6620\n",
            "\n",
            "    accuracy                           0.55     30000\n",
            "   macro avg       0.51      0.51      0.48     30000\n",
            "weighted avg       0.66      0.55      0.59     30000\n",
            "\n"
          ],
          "name": "stdout"
        }
      ]
    },
    {
      "cell_type": "markdown",
      "metadata": {
        "id": "fw8oFEIb0wJ_"
      },
      "source": [
        "# **2- Factorization Machines**"
      ]
    },
    {
      "cell_type": "markdown",
      "metadata": {
        "id": "rPd9xQxmCwzn"
      },
      "source": [
        "Under very high sparsity, models like SVM don't perform well. For these situations, FM can give us a reliable estimation. FM can be used for both regression and classification. In FM, we consider featurse interaction too.\r\n",
        "\r\n",
        "$ \\hat y(x) = w_0 + \\sum_{i=1}^n w_i + \\sum_{i=1}^n \\sum_{j=i+1}^n <v_i,v_j> x_i x_j$\r\n",
        "\r\n",
        "In FM we don't learn $n^2$ parameters for interactions but we only learn $v_i$s. Learning $n^2$ parameters can cause overfitting because of sparsity. Again high-dimensional $v_i$s can cause overfitting becaues we have sparse data we want to decrease number of parameters of interactions. This is just 2-way FM and in d-way FM all interacyions between every k features is considered ($k\\leq d$)."
      ]
    },
    {
      "cell_type": "code",
      "metadata": {
        "id": "pd5nfis7ZfXc",
        "colab": {
          "base_uri": "https://localhost:8080/"
        },
        "outputId": "870cdd73-1463-4747-d06e-7cbd791184a3"
      },
      "source": [
        "!pip install xlearn\r\n",
        "import xlearn as xl"
      ],
      "execution_count": null,
      "outputs": [
        {
          "output_type": "stream",
          "text": [
            "Requirement already satisfied: xlearn in /usr/local/lib/python3.6/dist-packages (0.40a1)\n"
          ],
          "name": "stdout"
        }
      ]
    },
    {
      "cell_type": "code",
      "metadata": {
        "id": "J0M_J6dC85k6"
      },
      "source": [
        "from sklearn.model_selection import train_test_split\r\n",
        "with ZipFile(\"MLFinalProjectDataset.zip\" , 'r') as zip:\r\n",
        "    zip.extractall()\r\n",
        "train_data = train_data.drop([\"timestamp\",\"userId\"],axis=1)\r\n",
        "train_data_fm , valid_data_fm  = train_test_split(train_data, test_size = .4)"
      ],
      "execution_count": null,
      "outputs": []
    },
    {
      "cell_type": "code",
      "metadata": {
        "id": "K7gJzjvB8OdW"
      },
      "source": [
        "fm_model = xl.create_fm()\r\n",
        "fm_model.setTrain(\"train_data.csv\")\r\n",
        "params = {'lr' : 0.2, 'task' : 'binary', 'lambda' : 0, 'epoch' :100, 'metric':'acc'}\r\n",
        "fm_model.fit(param = params ,model_path=  \"./fm_model.out\")"
      ],
      "execution_count": null,
      "outputs": []
    },
    {
      "cell_type": "code",
      "metadata": {
        "id": "P2A13QZexHUz"
      },
      "source": [
        "import xlearn as xl\r\n",
        "from sklearn.ensemble import RandomForestClassifier\r\n",
        "from sklearn.model_selection import train_test_split\r\n",
        "from sklearn.metrics import accuracy_score, roc_auc_score\r\n",
        "from sklearn.metrics import f1_score, recall_score, auc, precision_score\r\n",
        "tmp = train_data.copy()\r\n",
        "tmp_y = tmp['clicked']\r\n",
        "tmp_X = tmp.drop(columns=['timestamp', 'displayId', 'userId', 'clicked'])\r\n",
        "\r\n",
        "X_train, X_test, y_train, y_test = train_test_split(tmp_X, tmp_y, test_size = 0.33, stratify = tmp_y, random_state = 42)\r\n",
        "X_train, X_val, y_train, y_val = train_test_split(X_train, y_train, test_size = 0.33, stratify = y_train, random_state = 42)\r\n",
        "\r\n",
        "fm_model = xl.create_fm()\r\n",
        "fm=xl.FMModel(task='binary', lr=0.2, epoch=20, reg_lambda=0.0001, metric='acc')\r\n",
        "fm.fit(X_train, y_train,\r\n",
        "                 eval_set=[X_val, y_val],\r\n",
        "                 is_lock_free=False)\r\n",
        "\r\n",
        "y_p=fm.predict(X_val)\r\n",
        "validation_mse_error=sum((y_p-y_val)**2)/len(y_p)\r\n",
        "\r\n",
        "from sklearn.metrics import f1_score, recall_score, auc\r\n",
        "\r\n",
        "print('validation auc_score: '+ str(roc_auc_score(y_val, y_p)))\r\n",
        "\r\n",
        "y_p=fm.predict(X_test)\r\n",
        "validation_mse_error=sum((y_p-y_test)**2)/len(y_p)\r\n",
        "print(validation_mse_error)\r\n",
        "\r\n",
        "from sklearn.metrics import f1_score, recall_score, auc\r\n",
        "\r\n",
        "print('test auc_score: '+ str(roc_auc_score(y_test, y_p)))"
      ],
      "execution_count": null,
      "outputs": []
    },
    {
      "cell_type": "code",
      "metadata": {
        "id": "S568jof0pZHR"
      },
      "source": [
        ""
      ],
      "execution_count": null,
      "outputs": []
    },
    {
      "cell_type": "markdown",
      "metadata": {
        "id": "RFWjQPj2D0Er"
      },
      "source": [
        "# **3- Field-weighted Factorization Machines**"
      ]
    },
    {
      "cell_type": "code",
      "metadata": {
        "id": "H-Cvw4GoD6HL",
        "colab": {
          "base_uri": "https://localhost:8080/",
          "height": 240
        },
        "outputId": "562d19b9-c336-4b66-aef1-fcdfafdb4582"
      },
      "source": [
        "\n",
        "import tensorflow as tf\n",
        "from sklearn.metrics import f1_score, recall_score, auc, precision_score\n",
        "from sklearn.metrics import accuracy_score, roc_auc_score\n",
        "\n",
        "import pandas as pd\n",
        "from sklearn.metrics import mean_squared_error\n",
        "from sklearn.model_selection import train_test_split\n",
        "from sklearn.preprocessing import LabelEncoder\n",
        "from deepctr.estimator import FwFMEstimator\n",
        "from deepctr.models import FwFM\n",
        "\n",
        "from deepctr.models import DeepFM\n",
        "from deepctr.feature_column import SparseFeat,get_feature_names\n",
        "\n",
        "if __name__ == \"__main__\":\n",
        "\n",
        "    data = train_data.copy()\n",
        "    sparse_features = [\n",
        "#                        'displayId',\n",
        "#                        'timestamp',\n",
        "                       'dayOfWeek',\n",
        "                       'hourOfDay', \n",
        "                       'advertiserId',\n",
        "                       'campaignId',\n",
        "                       'creativeId',\n",
        "                       'publisher',\n",
        "                       'widgetId',\n",
        "                       'device',\n",
        "                       'os',\n",
        "                       'browser',\n",
        "                       'source',\n",
        "                       'docId',\n",
        "#                        'userId',\n",
        "                      ]\n",
        "    target = ['clicked']\n",
        "\n",
        "    # 1.Label Encoding for sparse features,and do simple Transformation for dense features\n",
        "    for feat in sparse_features:\n",
        "        lbe = LabelEncoder()\n",
        "        data[feat] = lbe.fit_transform(data[feat])\n",
        "    # 2.count #unique features for each sparse field\n",
        "    fixlen_feature_columns = [SparseFeat(feat, data[feat].nunique(),embedding_dim=4)\n",
        "                              for feat in sparse_features]\n",
        "    linear_feature_columns = fixlen_feature_columns\n",
        "    dnn_feature_columns = fixlen_feature_columns\n",
        "    feature_names = get_feature_names(linear_feature_columns + dnn_feature_columns)\n",
        "\n",
        "    # 3.generate input data for model\n",
        "    train, test = train_test_split(data, test_size=0.2, random_state=2020)\n",
        "    train_model_input = {name:train[name].values for name in feature_names}\n",
        "    test_model_input = {name:test[name].values for name in feature_names}\n",
        "\n",
        "    # 4.Define Model,train,predict and evaluate\n",
        "    model = FwFM(linear_feature_columns, dnn_feature_columns, task='binary')\n",
        "    model.compile(\"adam\", \"mse\", metrics=['mse'], )\n",
        "\n",
        "    history = model.fit(train_model_input, train[target].values,\n",
        "                        batch_size=256, epochs=1, verbose=2, validation_split=0.2, )\n",
        "    pred_ans = model.predict(test_model_input, batch_size=256)\n",
        "    print(\"test MSE\", round(mean_squared_error(\n",
        "        test[target].values, pred_ans), 4))\n",
        "    print('test auc', roc_auc_score(test[target].values, pred_ans))\n",
        "\n"
      ],
      "execution_count": null,
      "outputs": [
        {
          "output_type": "stream",
          "text": [
            "9422/9422 - 210s - loss: 0.1649 - mse: 0.1639 - val_loss: 0.1637 - val_mse: 0.1624\n",
            "test MSE 0.162\n"
          ],
          "name": "stdout"
        },
        {
          "output_type": "error",
          "ename": "NameError",
          "evalue": "ignored",
          "traceback": [
            "\u001b[0;31m---------------------------------------------------------------------------\u001b[0m",
            "\u001b[0;31mNameError\u001b[0m                                 Traceback (most recent call last)",
            "\u001b[0;32m<ipython-input-9-5ee8ecb34d87>\u001b[0m in \u001b[0;36m<module>\u001b[0;34m()\u001b[0m\n\u001b[1;32m     60\u001b[0m     print(\"test MSE\", round(mean_squared_error(\n\u001b[1;32m     61\u001b[0m         test[target].values, pred_ans), 4))\n\u001b[0;32m---> 62\u001b[0;31m     \u001b[0mprint\u001b[0m\u001b[0;34m(\u001b[0m\u001b[0;34m'test auc'\u001b[0m\u001b[0;34m,\u001b[0m \u001b[0mroc_auc_score\u001b[0m\u001b[0;34m(\u001b[0m\u001b[0mtest\u001b[0m\u001b[0;34m[\u001b[0m\u001b[0mtarget\u001b[0m\u001b[0;34m]\u001b[0m\u001b[0;34m.\u001b[0m\u001b[0mvalues\u001b[0m\u001b[0;34m,\u001b[0m \u001b[0mpred_ans\u001b[0m\u001b[0;34m)\u001b[0m\u001b[0;34m)\u001b[0m\u001b[0;34m\u001b[0m\u001b[0;34m\u001b[0m\u001b[0m\n\u001b[0m\u001b[1;32m     63\u001b[0m \u001b[0;34m\u001b[0m\u001b[0m\n",
            "\u001b[0;31mNameError\u001b[0m: name 'roc_auc_score' is not defined"
          ]
        }
      ]
    }
  ]
}